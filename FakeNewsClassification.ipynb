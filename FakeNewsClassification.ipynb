{
 "cells": [
  {
   "cell_type": "markdown",
   "source": [
    "# Task #1: Import Libraries and Datasets"
   ],
   "metadata": {
    "collapsed": false
   },
   "id": "610a043e0d24578f"
  },
  {
   "cell_type": "code",
   "outputs": [
    {
     "name": "stdout",
     "output_type": "stream",
     "text": [
      "Requirement already satisfied: tensorflow in /opt/anaconda3/envs/fakenews/lib/python3.11/site-packages (2.16.1)\r\n",
      "Requirement already satisfied: absl-py>=1.0.0 in /opt/anaconda3/envs/fakenews/lib/python3.11/site-packages (from tensorflow) (2.1.0)\r\n",
      "Requirement already satisfied: astunparse>=1.6.0 in /opt/anaconda3/envs/fakenews/lib/python3.11/site-packages (from tensorflow) (1.6.3)\r\n",
      "Requirement already satisfied: flatbuffers>=23.5.26 in /opt/anaconda3/envs/fakenews/lib/python3.11/site-packages (from tensorflow) (24.3.25)\r\n",
      "Requirement already satisfied: gast!=0.5.0,!=0.5.1,!=0.5.2,>=0.2.1 in /opt/anaconda3/envs/fakenews/lib/python3.11/site-packages (from tensorflow) (0.5.4)\r\n",
      "Requirement already satisfied: google-pasta>=0.1.1 in /opt/anaconda3/envs/fakenews/lib/python3.11/site-packages (from tensorflow) (0.2.0)\r\n",
      "Requirement already satisfied: h5py>=3.10.0 in /opt/anaconda3/envs/fakenews/lib/python3.11/site-packages (from tensorflow) (3.11.0)\r\n",
      "Requirement already satisfied: libclang>=13.0.0 in /opt/anaconda3/envs/fakenews/lib/python3.11/site-packages (from tensorflow) (18.1.1)\r\n",
      "Requirement already satisfied: ml-dtypes~=0.3.1 in /opt/anaconda3/envs/fakenews/lib/python3.11/site-packages (from tensorflow) (0.3.2)\r\n",
      "Requirement already satisfied: opt-einsum>=2.3.2 in /opt/anaconda3/envs/fakenews/lib/python3.11/site-packages (from tensorflow) (3.3.0)\r\n",
      "Requirement already satisfied: packaging in /opt/anaconda3/envs/fakenews/lib/python3.11/site-packages (from tensorflow) (23.2)\r\n",
      "Requirement already satisfied: protobuf!=4.21.0,!=4.21.1,!=4.21.2,!=4.21.3,!=4.21.4,!=4.21.5,<5.0.0dev,>=3.20.3 in /opt/anaconda3/envs/fakenews/lib/python3.11/site-packages (from tensorflow) (4.25.3)\r\n",
      "Requirement already satisfied: requests<3,>=2.21.0 in /opt/anaconda3/envs/fakenews/lib/python3.11/site-packages (from tensorflow) (2.31.0)\r\n",
      "Requirement already satisfied: setuptools in /opt/anaconda3/envs/fakenews/lib/python3.11/site-packages (from tensorflow) (68.2.2)\r\n",
      "Requirement already satisfied: six>=1.12.0 in /opt/anaconda3/envs/fakenews/lib/python3.11/site-packages (from tensorflow) (1.16.0)\r\n",
      "Requirement already satisfied: termcolor>=1.1.0 in /opt/anaconda3/envs/fakenews/lib/python3.11/site-packages (from tensorflow) (2.4.0)\r\n",
      "Requirement already satisfied: typing-extensions>=3.6.6 in /opt/anaconda3/envs/fakenews/lib/python3.11/site-packages (from tensorflow) (4.9.0)\r\n",
      "Requirement already satisfied: wrapt>=1.11.0 in /opt/anaconda3/envs/fakenews/lib/python3.11/site-packages (from tensorflow) (1.16.0)\r\n",
      "Requirement already satisfied: grpcio<2.0,>=1.24.3 in /opt/anaconda3/envs/fakenews/lib/python3.11/site-packages (from tensorflow) (1.62.1)\r\n",
      "Requirement already satisfied: tensorboard<2.17,>=2.16 in /opt/anaconda3/envs/fakenews/lib/python3.11/site-packages (from tensorflow) (2.16.2)\r\n",
      "Requirement already satisfied: keras>=3.0.0 in /opt/anaconda3/envs/fakenews/lib/python3.11/site-packages (from tensorflow) (3.2.1)\r\n",
      "Requirement already satisfied: tensorflow-io-gcs-filesystem>=0.23.1 in /opt/anaconda3/envs/fakenews/lib/python3.11/site-packages (from tensorflow) (0.36.0)\r\n",
      "Requirement already satisfied: numpy<2.0.0,>=1.23.5 in /opt/anaconda3/envs/fakenews/lib/python3.11/site-packages (from tensorflow) (1.26.4)\r\n",
      "Requirement already satisfied: wheel<1.0,>=0.23.0 in /opt/anaconda3/envs/fakenews/lib/python3.11/site-packages (from astunparse>=1.6.0->tensorflow) (0.41.2)\r\n",
      "Requirement already satisfied: rich in /opt/anaconda3/envs/fakenews/lib/python3.11/site-packages (from keras>=3.0.0->tensorflow) (13.7.1)\r\n",
      "Requirement already satisfied: namex in /opt/anaconda3/envs/fakenews/lib/python3.11/site-packages (from keras>=3.0.0->tensorflow) (0.0.8)\r\n",
      "Requirement already satisfied: optree in /opt/anaconda3/envs/fakenews/lib/python3.11/site-packages (from keras>=3.0.0->tensorflow) (0.11.0)\r\n",
      "Requirement already satisfied: charset-normalizer<4,>=2 in /opt/anaconda3/envs/fakenews/lib/python3.11/site-packages (from requests<3,>=2.21.0->tensorflow) (2.0.4)\r\n",
      "Requirement already satisfied: idna<4,>=2.5 in /opt/anaconda3/envs/fakenews/lib/python3.11/site-packages (from requests<3,>=2.21.0->tensorflow) (3.4)\r\n",
      "Requirement already satisfied: urllib3<3,>=1.21.1 in /opt/anaconda3/envs/fakenews/lib/python3.11/site-packages (from requests<3,>=2.21.0->tensorflow) (2.1.0)\r\n",
      "Requirement already satisfied: certifi>=2017.4.17 in /opt/anaconda3/envs/fakenews/lib/python3.11/site-packages (from requests<3,>=2.21.0->tensorflow) (2024.2.2)\r\n",
      "Requirement already satisfied: markdown>=2.6.8 in /opt/anaconda3/envs/fakenews/lib/python3.11/site-packages (from tensorboard<2.17,>=2.16->tensorflow) (3.6)\r\n",
      "Requirement already satisfied: tensorboard-data-server<0.8.0,>=0.7.0 in /opt/anaconda3/envs/fakenews/lib/python3.11/site-packages (from tensorboard<2.17,>=2.16->tensorflow) (0.7.2)\r\n",
      "Requirement already satisfied: werkzeug>=1.0.1 in /opt/anaconda3/envs/fakenews/lib/python3.11/site-packages (from tensorboard<2.17,>=2.16->tensorflow) (3.0.2)\r\n",
      "Requirement already satisfied: MarkupSafe>=2.1.1 in /opt/anaconda3/envs/fakenews/lib/python3.11/site-packages (from werkzeug>=1.0.1->tensorboard<2.17,>=2.16->tensorflow) (2.1.3)\r\n",
      "Requirement already satisfied: markdown-it-py>=2.2.0 in /opt/anaconda3/envs/fakenews/lib/python3.11/site-packages (from rich->keras>=3.0.0->tensorflow) (3.0.0)\r\n",
      "Requirement already satisfied: pygments<3.0.0,>=2.13.0 in /opt/anaconda3/envs/fakenews/lib/python3.11/site-packages (from rich->keras>=3.0.0->tensorflow) (2.15.1)\r\n",
      "Requirement already satisfied: mdurl~=0.1 in /opt/anaconda3/envs/fakenews/lib/python3.11/site-packages (from markdown-it-py>=2.2.0->rich->keras>=3.0.0->tensorflow) (0.1.2)\r\n"
     ]
    }
   ],
   "source": [
    "!pip install --upgrade tensorflow"
   ],
   "metadata": {
    "collapsed": false,
    "ExecuteTime": {
     "end_time": "2024-04-16T16:49:08.460449Z",
     "start_time": "2024-04-16T16:49:07.097416Z"
    }
   },
   "id": "e421b0586a3e2588",
   "execution_count": 1
  },
  {
   "cell_type": "code",
   "outputs": [
    {
     "name": "stdout",
     "output_type": "stream",
     "text": [
      "Requirement already satisfied: plotly in /opt/anaconda3/envs/fakenews/lib/python3.11/site-packages (5.20.0)\r\n",
      "Requirement already satisfied: tenacity>=6.2.0 in /opt/anaconda3/envs/fakenews/lib/python3.11/site-packages (from plotly) (8.2.3)\r\n",
      "Requirement already satisfied: packaging in /opt/anaconda3/envs/fakenews/lib/python3.11/site-packages (from plotly) (23.2)\r\n",
      "Requirement already satisfied: nbformat in /opt/anaconda3/envs/fakenews/lib/python3.11/site-packages (5.10.4)\r\n",
      "Requirement already satisfied: fastjsonschema>=2.15 in /opt/anaconda3/envs/fakenews/lib/python3.11/site-packages (from nbformat) (2.16.2)\r\n",
      "Requirement already satisfied: jsonschema>=2.6 in /opt/anaconda3/envs/fakenews/lib/python3.11/site-packages (from nbformat) (4.19.2)\r\n",
      "Requirement already satisfied: jupyter-core!=5.0.*,>=4.12 in /opt/anaconda3/envs/fakenews/lib/python3.11/site-packages (from nbformat) (5.5.0)\r\n",
      "Requirement already satisfied: traitlets>=5.1 in /opt/anaconda3/envs/fakenews/lib/python3.11/site-packages (from nbformat) (5.7.1)\r\n",
      "Requirement already satisfied: attrs>=22.2.0 in /opt/anaconda3/envs/fakenews/lib/python3.11/site-packages (from jsonschema>=2.6->nbformat) (23.1.0)\r\n",
      "Requirement already satisfied: jsonschema-specifications>=2023.03.6 in /opt/anaconda3/envs/fakenews/lib/python3.11/site-packages (from jsonschema>=2.6->nbformat) (2023.7.1)\r\n",
      "Requirement already satisfied: referencing>=0.28.4 in /opt/anaconda3/envs/fakenews/lib/python3.11/site-packages (from jsonschema>=2.6->nbformat) (0.30.2)\r\n",
      "Requirement already satisfied: rpds-py>=0.7.1 in /opt/anaconda3/envs/fakenews/lib/python3.11/site-packages (from jsonschema>=2.6->nbformat) (0.10.6)\r\n",
      "Requirement already satisfied: platformdirs>=2.5 in /opt/anaconda3/envs/fakenews/lib/python3.11/site-packages (from jupyter-core!=5.0.*,>=4.12->nbformat) (3.10.0)\r\n",
      "Requirement already satisfied: nltk in /opt/anaconda3/envs/fakenews/lib/python3.11/site-packages (3.8.1)\r\n",
      "Requirement already satisfied: click in /opt/anaconda3/envs/fakenews/lib/python3.11/site-packages (from nltk) (8.1.7)\r\n",
      "Requirement already satisfied: joblib in /opt/anaconda3/envs/fakenews/lib/python3.11/site-packages (from nltk) (1.2.0)\r\n",
      "Requirement already satisfied: regex>=2021.8.3 in /opt/anaconda3/envs/fakenews/lib/python3.11/site-packages (from nltk) (2023.10.3)\r\n",
      "Requirement already satisfied: tqdm in /opt/anaconda3/envs/fakenews/lib/python3.11/site-packages (from nltk) (4.65.0)\r\n",
      "Requirement already satisfied: spacy in /opt/anaconda3/envs/fakenews/lib/python3.11/site-packages (3.7.4)\r\n",
      "Requirement already satisfied: spacy-legacy<3.1.0,>=3.0.11 in /opt/anaconda3/envs/fakenews/lib/python3.11/site-packages (from spacy) (3.0.12)\r\n",
      "Requirement already satisfied: spacy-loggers<2.0.0,>=1.0.0 in /opt/anaconda3/envs/fakenews/lib/python3.11/site-packages (from spacy) (1.0.5)\r\n",
      "Requirement already satisfied: murmurhash<1.1.0,>=0.28.0 in /opt/anaconda3/envs/fakenews/lib/python3.11/site-packages (from spacy) (1.0.10)\r\n",
      "Requirement already satisfied: cymem<2.1.0,>=2.0.2 in /opt/anaconda3/envs/fakenews/lib/python3.11/site-packages (from spacy) (2.0.8)\r\n",
      "Requirement already satisfied: preshed<3.1.0,>=3.0.2 in /opt/anaconda3/envs/fakenews/lib/python3.11/site-packages (from spacy) (3.0.9)\r\n",
      "Requirement already satisfied: thinc<8.3.0,>=8.2.2 in /opt/anaconda3/envs/fakenews/lib/python3.11/site-packages (from spacy) (8.2.3)\r\n",
      "Requirement already satisfied: wasabi<1.2.0,>=0.9.1 in /opt/anaconda3/envs/fakenews/lib/python3.11/site-packages (from spacy) (1.1.2)\r\n",
      "Requirement already satisfied: srsly<3.0.0,>=2.4.3 in /opt/anaconda3/envs/fakenews/lib/python3.11/site-packages (from spacy) (2.4.8)\r\n",
      "Requirement already satisfied: catalogue<2.1.0,>=2.0.6 in /opt/anaconda3/envs/fakenews/lib/python3.11/site-packages (from spacy) (2.0.10)\r\n",
      "Requirement already satisfied: weasel<0.4.0,>=0.1.0 in /opt/anaconda3/envs/fakenews/lib/python3.11/site-packages (from spacy) (0.3.4)\r\n",
      "Requirement already satisfied: typer<0.10.0,>=0.3.0 in /opt/anaconda3/envs/fakenews/lib/python3.11/site-packages (from spacy) (0.9.4)\r\n",
      "Requirement already satisfied: smart-open<7.0.0,>=5.2.1 in /opt/anaconda3/envs/fakenews/lib/python3.11/site-packages (from spacy) (5.2.1)\r\n",
      "Requirement already satisfied: tqdm<5.0.0,>=4.38.0 in /opt/anaconda3/envs/fakenews/lib/python3.11/site-packages (from spacy) (4.65.0)\r\n",
      "Requirement already satisfied: requests<3.0.0,>=2.13.0 in /opt/anaconda3/envs/fakenews/lib/python3.11/site-packages (from spacy) (2.31.0)\r\n",
      "Requirement already satisfied: pydantic!=1.8,!=1.8.1,<3.0.0,>=1.7.4 in /opt/anaconda3/envs/fakenews/lib/python3.11/site-packages (from spacy) (2.7.0)\r\n",
      "Requirement already satisfied: jinja2 in /opt/anaconda3/envs/fakenews/lib/python3.11/site-packages (from spacy) (3.1.3)\r\n",
      "Requirement already satisfied: setuptools in /opt/anaconda3/envs/fakenews/lib/python3.11/site-packages (from spacy) (68.2.2)\r\n",
      "Requirement already satisfied: packaging>=20.0 in /opt/anaconda3/envs/fakenews/lib/python3.11/site-packages (from spacy) (23.2)\r\n",
      "Requirement already satisfied: langcodes<4.0.0,>=3.2.0 in /opt/anaconda3/envs/fakenews/lib/python3.11/site-packages (from spacy) (3.3.0)\r\n",
      "Requirement already satisfied: numpy>=1.19.0 in /opt/anaconda3/envs/fakenews/lib/python3.11/site-packages (from spacy) (1.26.4)\r\n",
      "Requirement already satisfied: annotated-types>=0.4.0 in /opt/anaconda3/envs/fakenews/lib/python3.11/site-packages (from pydantic!=1.8,!=1.8.1,<3.0.0,>=1.7.4->spacy) (0.6.0)\r\n",
      "Requirement already satisfied: pydantic-core==2.18.1 in /opt/anaconda3/envs/fakenews/lib/python3.11/site-packages (from pydantic!=1.8,!=1.8.1,<3.0.0,>=1.7.4->spacy) (2.18.1)\r\n",
      "Requirement already satisfied: typing-extensions>=4.6.1 in /opt/anaconda3/envs/fakenews/lib/python3.11/site-packages (from pydantic!=1.8,!=1.8.1,<3.0.0,>=1.7.4->spacy) (4.9.0)\r\n",
      "Requirement already satisfied: charset-normalizer<4,>=2 in /opt/anaconda3/envs/fakenews/lib/python3.11/site-packages (from requests<3.0.0,>=2.13.0->spacy) (2.0.4)\r\n",
      "Requirement already satisfied: idna<4,>=2.5 in /opt/anaconda3/envs/fakenews/lib/python3.11/site-packages (from requests<3.0.0,>=2.13.0->spacy) (3.4)\r\n",
      "Requirement already satisfied: urllib3<3,>=1.21.1 in /opt/anaconda3/envs/fakenews/lib/python3.11/site-packages (from requests<3.0.0,>=2.13.0->spacy) (2.1.0)\r\n",
      "Requirement already satisfied: certifi>=2017.4.17 in /opt/anaconda3/envs/fakenews/lib/python3.11/site-packages (from requests<3.0.0,>=2.13.0->spacy) (2024.2.2)\r\n",
      "Requirement already satisfied: blis<0.8.0,>=0.7.8 in /opt/anaconda3/envs/fakenews/lib/python3.11/site-packages (from thinc<8.3.0,>=8.2.2->spacy) (0.7.11)\r\n",
      "Requirement already satisfied: confection<1.0.0,>=0.0.1 in /opt/anaconda3/envs/fakenews/lib/python3.11/site-packages (from thinc<8.3.0,>=8.2.2->spacy) (0.1.4)\r\n",
      "Requirement already satisfied: click<9.0.0,>=7.1.1 in /opt/anaconda3/envs/fakenews/lib/python3.11/site-packages (from typer<0.10.0,>=0.3.0->spacy) (8.1.7)\r\n",
      "Requirement already satisfied: cloudpathlib<0.17.0,>=0.7.0 in /opt/anaconda3/envs/fakenews/lib/python3.11/site-packages (from weasel<0.4.0,>=0.1.0->spacy) (0.16.0)\r\n",
      "Requirement already satisfied: MarkupSafe>=2.0 in /opt/anaconda3/envs/fakenews/lib/python3.11/site-packages (from jinja2->spacy) (2.1.3)\r\n",
      "Requirement already satisfied: WordCloud in /opt/anaconda3/envs/fakenews/lib/python3.11/site-packages (1.9.3)\r\n",
      "Requirement already satisfied: numpy>=1.6.1 in /opt/anaconda3/envs/fakenews/lib/python3.11/site-packages (from WordCloud) (1.26.4)\r\n",
      "Requirement already satisfied: pillow in /opt/anaconda3/envs/fakenews/lib/python3.11/site-packages (from WordCloud) (10.2.0)\r\n",
      "Requirement already satisfied: matplotlib in /opt/anaconda3/envs/fakenews/lib/python3.11/site-packages (from WordCloud) (3.8.0)\r\n",
      "Requirement already satisfied: contourpy>=1.0.1 in /opt/anaconda3/envs/fakenews/lib/python3.11/site-packages (from matplotlib->WordCloud) (1.2.0)\r\n",
      "Requirement already satisfied: cycler>=0.10 in /opt/anaconda3/envs/fakenews/lib/python3.11/site-packages (from matplotlib->WordCloud) (0.11.0)\r\n",
      "Requirement already satisfied: fonttools>=4.22.0 in /opt/anaconda3/envs/fakenews/lib/python3.11/site-packages (from matplotlib->WordCloud) (4.25.0)\r\n",
      "Requirement already satisfied: kiwisolver>=1.0.1 in /opt/anaconda3/envs/fakenews/lib/python3.11/site-packages (from matplotlib->WordCloud) (1.4.4)\r\n",
      "Requirement already satisfied: packaging>=20.0 in /opt/anaconda3/envs/fakenews/lib/python3.11/site-packages (from matplotlib->WordCloud) (23.2)\r\n",
      "Requirement already satisfied: pyparsing>=2.3.1 in /opt/anaconda3/envs/fakenews/lib/python3.11/site-packages (from matplotlib->WordCloud) (3.0.9)\r\n",
      "Requirement already satisfied: python-dateutil>=2.7 in /opt/anaconda3/envs/fakenews/lib/python3.11/site-packages (from matplotlib->WordCloud) (2.8.2)\r\n",
      "Requirement already satisfied: six>=1.5 in /opt/anaconda3/envs/fakenews/lib/python3.11/site-packages (from python-dateutil>=2.7->matplotlib->WordCloud) (1.16.0)\r\n",
      "Requirement already satisfied: gensim in /opt/anaconda3/envs/fakenews/lib/python3.11/site-packages (4.3.0)\r\n",
      "Requirement already satisfied: numpy>=1.18.5 in /opt/anaconda3/envs/fakenews/lib/python3.11/site-packages (from gensim) (1.26.4)\r\n",
      "Requirement already satisfied: scipy>=1.7.0 in /opt/anaconda3/envs/fakenews/lib/python3.11/site-packages (from gensim) (1.12.0)\r\n",
      "Requirement already satisfied: smart-open>=1.8.1 in /opt/anaconda3/envs/fakenews/lib/python3.11/site-packages (from gensim) (5.2.1)\r\n",
      "Requirement already satisfied: FuzzyTM>=0.4.0 in /opt/anaconda3/envs/fakenews/lib/python3.11/site-packages (from gensim) (2.0.5)\r\n",
      "Requirement already satisfied: pandas in /opt/anaconda3/envs/fakenews/lib/python3.11/site-packages (from FuzzyTM>=0.4.0->gensim) (2.2.1)\r\n",
      "Requirement already satisfied: pyfume in /opt/anaconda3/envs/fakenews/lib/python3.11/site-packages (from FuzzyTM>=0.4.0->gensim) (0.3.1)\r\n",
      "Requirement already satisfied: python-dateutil>=2.8.2 in /opt/anaconda3/envs/fakenews/lib/python3.11/site-packages (from pandas->FuzzyTM>=0.4.0->gensim) (2.8.2)\r\n",
      "Requirement already satisfied: pytz>=2020.1 in /opt/anaconda3/envs/fakenews/lib/python3.11/site-packages (from pandas->FuzzyTM>=0.4.0->gensim) (2023.3.post1)\r\n",
      "Requirement already satisfied: tzdata>=2022.7 in /opt/anaconda3/envs/fakenews/lib/python3.11/site-packages (from pandas->FuzzyTM>=0.4.0->gensim) (2023.3)\r\n",
      "Requirement already satisfied: simpful in /opt/anaconda3/envs/fakenews/lib/python3.11/site-packages (from pyfume->FuzzyTM>=0.4.0->gensim) (2.12.0)\r\n",
      "Requirement already satisfied: fst-pso in /opt/anaconda3/envs/fakenews/lib/python3.11/site-packages (from pyfume->FuzzyTM>=0.4.0->gensim) (1.8.1)\r\n",
      "Requirement already satisfied: typing-extensions in /opt/anaconda3/envs/fakenews/lib/python3.11/site-packages (from pyfume->FuzzyTM>=0.4.0->gensim) (4.9.0)\r\n",
      "Requirement already satisfied: six>=1.5 in /opt/anaconda3/envs/fakenews/lib/python3.11/site-packages (from python-dateutil>=2.8.2->pandas->FuzzyTM>=0.4.0->gensim) (1.16.0)\r\n",
      "Requirement already satisfied: miniful in /opt/anaconda3/envs/fakenews/lib/python3.11/site-packages (from fst-pso->pyfume->FuzzyTM>=0.4.0->gensim) (0.0.6)\r\n",
      "Requirement already satisfied: matplotlib in /opt/anaconda3/envs/fakenews/lib/python3.11/site-packages (3.8.0)\r\n",
      "Requirement already satisfied: contourpy>=1.0.1 in /opt/anaconda3/envs/fakenews/lib/python3.11/site-packages (from matplotlib) (1.2.0)\r\n",
      "Requirement already satisfied: cycler>=0.10 in /opt/anaconda3/envs/fakenews/lib/python3.11/site-packages (from matplotlib) (0.11.0)\r\n",
      "Requirement already satisfied: fonttools>=4.22.0 in /opt/anaconda3/envs/fakenews/lib/python3.11/site-packages (from matplotlib) (4.25.0)\r\n",
      "Requirement already satisfied: kiwisolver>=1.0.1 in /opt/anaconda3/envs/fakenews/lib/python3.11/site-packages (from matplotlib) (1.4.4)\r\n",
      "Requirement already satisfied: numpy<2,>=1.21 in /opt/anaconda3/envs/fakenews/lib/python3.11/site-packages (from matplotlib) (1.26.4)\r\n",
      "Requirement already satisfied: packaging>=20.0 in /opt/anaconda3/envs/fakenews/lib/python3.11/site-packages (from matplotlib) (23.2)\r\n",
      "Requirement already satisfied: pillow>=6.2.0 in /opt/anaconda3/envs/fakenews/lib/python3.11/site-packages (from matplotlib) (10.2.0)\r\n",
      "Requirement already satisfied: pyparsing>=2.3.1 in /opt/anaconda3/envs/fakenews/lib/python3.11/site-packages (from matplotlib) (3.0.9)\r\n",
      "Requirement already satisfied: python-dateutil>=2.7 in /opt/anaconda3/envs/fakenews/lib/python3.11/site-packages (from matplotlib) (2.8.2)\r\n",
      "Requirement already satisfied: six>=1.5 in /opt/anaconda3/envs/fakenews/lib/python3.11/site-packages (from python-dateutil>=2.7->matplotlib) (1.16.0)\r\n",
      "Requirement already satisfied: seaborn in /opt/anaconda3/envs/fakenews/lib/python3.11/site-packages (0.12.2)\r\n",
      "Requirement already satisfied: numpy!=1.24.0,>=1.17 in /opt/anaconda3/envs/fakenews/lib/python3.11/site-packages (from seaborn) (1.26.4)\r\n",
      "Requirement already satisfied: pandas>=0.25 in /opt/anaconda3/envs/fakenews/lib/python3.11/site-packages (from seaborn) (2.2.1)\r\n",
      "Requirement already satisfied: matplotlib!=3.6.1,>=3.1 in /opt/anaconda3/envs/fakenews/lib/python3.11/site-packages (from seaborn) (3.8.0)\r\n",
      "Requirement already satisfied: contourpy>=1.0.1 in /opt/anaconda3/envs/fakenews/lib/python3.11/site-packages (from matplotlib!=3.6.1,>=3.1->seaborn) (1.2.0)\r\n",
      "Requirement already satisfied: cycler>=0.10 in /opt/anaconda3/envs/fakenews/lib/python3.11/site-packages (from matplotlib!=3.6.1,>=3.1->seaborn) (0.11.0)\r\n",
      "Requirement already satisfied: fonttools>=4.22.0 in /opt/anaconda3/envs/fakenews/lib/python3.11/site-packages (from matplotlib!=3.6.1,>=3.1->seaborn) (4.25.0)\r\n",
      "Requirement already satisfied: kiwisolver>=1.0.1 in /opt/anaconda3/envs/fakenews/lib/python3.11/site-packages (from matplotlib!=3.6.1,>=3.1->seaborn) (1.4.4)\r\n",
      "Requirement already satisfied: packaging>=20.0 in /opt/anaconda3/envs/fakenews/lib/python3.11/site-packages (from matplotlib!=3.6.1,>=3.1->seaborn) (23.2)\r\n",
      "Requirement already satisfied: pillow>=6.2.0 in /opt/anaconda3/envs/fakenews/lib/python3.11/site-packages (from matplotlib!=3.6.1,>=3.1->seaborn) (10.2.0)\r\n",
      "Requirement already satisfied: pyparsing>=2.3.1 in /opt/anaconda3/envs/fakenews/lib/python3.11/site-packages (from matplotlib!=3.6.1,>=3.1->seaborn) (3.0.9)\r\n",
      "Requirement already satisfied: python-dateutil>=2.7 in /opt/anaconda3/envs/fakenews/lib/python3.11/site-packages (from matplotlib!=3.6.1,>=3.1->seaborn) (2.8.2)\r\n",
      "Requirement already satisfied: pytz>=2020.1 in /opt/anaconda3/envs/fakenews/lib/python3.11/site-packages (from pandas>=0.25->seaborn) (2023.3.post1)\r\n",
      "Requirement already satisfied: tzdata>=2022.7 in /opt/anaconda3/envs/fakenews/lib/python3.11/site-packages (from pandas>=0.25->seaborn) (2023.3)\r\n",
      "Requirement already satisfied: six>=1.5 in /opt/anaconda3/envs/fakenews/lib/python3.11/site-packages (from python-dateutil>=2.7->matplotlib!=3.6.1,>=3.1->seaborn) (1.16.0)\r\n"
     ]
    },
    {
     "name": "stderr",
     "output_type": "stream",
     "text": [
      "[nltk_data] Downloading package punkt to\n",
      "[nltk_data]     /Users/anirudhrao/nltk_data...\n",
      "[nltk_data]   Package punkt is already up-to-date!\n"
     ]
    }
   ],
   "source": [
    "!pip install plotly\n",
    "!pip install --upgrade nbformat\n",
    "!pip install nltk\n",
    "!pip install spacy\n",
    "!pip install WordCloud\n",
    "!pip install gensim\n",
    "!pip install matplotlib\n",
    "!pip install seaborn\n",
    "import nltk\n",
    "nltk.download('punkt')\n",
    "\n",
    "import tensorflow as tf\n",
    "import pandas as pd\n",
    "import numpy as np\n",
    "import matplotlib.pyplot as plt\n",
    "import seaborn as sns\n",
    "from wordcloud import WordCloud, STOPWORDS\n",
    "import nltk\n",
    "import re\n",
    "from nltk.stem import PorterStemmer, WordNetLemmatizer\n",
    "from nltk.corpus import stopwords\n",
    "from nltk.tokenize import word_tokenize, sent_tokenize\n",
    "import gensim\n",
    "from gensim.utils import simple_preprocess\n",
    "from gensim.parsing.preprocessing import STOPWORDS\n",
    "from tensorflow.keras.preprocessing.text import one_hot, Tokenizer\n",
    "from tensorflow.keras.preprocessing.sequence import pad_sequences\n",
    "from tensorflow.keras.models import Sequential\n",
    "from tensorflow.keras.layers import Dense, Flatten, Embedding, Input, LSTM, Conv1D, MaxPool1D, Bidirectional\n",
    "from tensorflow.keras.models import Model\n",
    "from jupyterthemes import jtplot\n",
    "jtplot.style(theme='monokai', context='notebook', ticks=True, grid=False) "
   ],
   "metadata": {
    "collapsed": false,
    "ExecuteTime": {
     "end_time": "2024-04-16T16:49:18.751082Z",
     "start_time": "2024-04-16T16:49:08.461849Z"
    }
   },
   "id": "c43efce6e2e7bd02",
   "execution_count": 2
  },
  {
   "cell_type": "code",
   "outputs": [],
   "source": [
    "df_true = pd.read_csv(\"True.csv\")\n",
    "df_fake = pd.read_csv(\"Fake.csv\")"
   ],
   "metadata": {
    "collapsed": false,
    "ExecuteTime": {
     "end_time": "2024-04-16T16:49:19.572428Z",
     "start_time": "2024-04-16T16:49:18.751708Z"
    }
   },
   "id": "8052256ad9a464a9",
   "execution_count": 3
  },
  {
   "cell_type": "markdown",
   "source": [
    "### Indicate how many data samples do we have per class (i.e.: Fake and True)"
   ],
   "metadata": {
    "collapsed": false
   },
   "id": "bc4451a47f539d26"
  },
  {
   "cell_type": "code",
   "outputs": [
    {
     "data": {
      "text/plain": "                                                   title  \\\n0      As U.S. budget fight looms, Republicans flip t...   \n1      U.S. military to accept transgender recruits o...   \n2      Senior U.S. Republican senator: 'Let Mr. Muell...   \n3      FBI Russia probe helped by Australian diplomat...   \n4      Trump wants Postal Service to charge 'much mor...   \n...                                                  ...   \n21412  'Fully committed' NATO backs new U.S. approach...   \n21413  LexisNexis withdrew two products from Chinese ...   \n21414  Minsk cultural hub becomes haven from authorities   \n21415  Vatican upbeat on possibility of Pope Francis ...   \n21416  Indonesia to buy $1.14 billion worth of Russia...   \n\n                                                    text       subject  \\\n0      WASHINGTON (Reuters) - The head of a conservat...  politicsNews   \n1      WASHINGTON (Reuters) - Transgender people will...  politicsNews   \n2      WASHINGTON (Reuters) - The special counsel inv...  politicsNews   \n3      WASHINGTON (Reuters) - Trump campaign adviser ...  politicsNews   \n4      SEATTLE/WASHINGTON (Reuters) - President Donal...  politicsNews   \n...                                                  ...           ...   \n21412  BRUSSELS (Reuters) - NATO allies on Tuesday we...     worldnews   \n21413  LONDON (Reuters) - LexisNexis, a provider of l...     worldnews   \n21414  MINSK (Reuters) - In the shadow of disused Sov...     worldnews   \n21415  MOSCOW (Reuters) - Vatican Secretary of State ...     worldnews   \n21416  JAKARTA (Reuters) - Indonesia will buy 11 Sukh...     worldnews   \n\n                     date  \n0      December 31, 2017   \n1      December 29, 2017   \n2      December 31, 2017   \n3      December 30, 2017   \n4      December 29, 2017   \n...                   ...  \n21412    August 22, 2017   \n21413    August 22, 2017   \n21414    August 22, 2017   \n21415    August 22, 2017   \n21416    August 22, 2017   \n\n[21417 rows x 4 columns]",
      "text/html": "<div>\n<style scoped>\n    .dataframe tbody tr th:only-of-type {\n        vertical-align: middle;\n    }\n\n    .dataframe tbody tr th {\n        vertical-align: top;\n    }\n\n    .dataframe thead th {\n        text-align: right;\n    }\n</style>\n<table border=\"1\" class=\"dataframe\">\n  <thead>\n    <tr style=\"text-align: right;\">\n      <th></th>\n      <th>title</th>\n      <th>text</th>\n      <th>subject</th>\n      <th>date</th>\n    </tr>\n  </thead>\n  <tbody>\n    <tr>\n      <th>0</th>\n      <td>As U.S. budget fight looms, Republicans flip t...</td>\n      <td>WASHINGTON (Reuters) - The head of a conservat...</td>\n      <td>politicsNews</td>\n      <td>December 31, 2017</td>\n    </tr>\n    <tr>\n      <th>1</th>\n      <td>U.S. military to accept transgender recruits o...</td>\n      <td>WASHINGTON (Reuters) - Transgender people will...</td>\n      <td>politicsNews</td>\n      <td>December 29, 2017</td>\n    </tr>\n    <tr>\n      <th>2</th>\n      <td>Senior U.S. Republican senator: 'Let Mr. Muell...</td>\n      <td>WASHINGTON (Reuters) - The special counsel inv...</td>\n      <td>politicsNews</td>\n      <td>December 31, 2017</td>\n    </tr>\n    <tr>\n      <th>3</th>\n      <td>FBI Russia probe helped by Australian diplomat...</td>\n      <td>WASHINGTON (Reuters) - Trump campaign adviser ...</td>\n      <td>politicsNews</td>\n      <td>December 30, 2017</td>\n    </tr>\n    <tr>\n      <th>4</th>\n      <td>Trump wants Postal Service to charge 'much mor...</td>\n      <td>SEATTLE/WASHINGTON (Reuters) - President Donal...</td>\n      <td>politicsNews</td>\n      <td>December 29, 2017</td>\n    </tr>\n    <tr>\n      <th>...</th>\n      <td>...</td>\n      <td>...</td>\n      <td>...</td>\n      <td>...</td>\n    </tr>\n    <tr>\n      <th>21412</th>\n      <td>'Fully committed' NATO backs new U.S. approach...</td>\n      <td>BRUSSELS (Reuters) - NATO allies on Tuesday we...</td>\n      <td>worldnews</td>\n      <td>August 22, 2017</td>\n    </tr>\n    <tr>\n      <th>21413</th>\n      <td>LexisNexis withdrew two products from Chinese ...</td>\n      <td>LONDON (Reuters) - LexisNexis, a provider of l...</td>\n      <td>worldnews</td>\n      <td>August 22, 2017</td>\n    </tr>\n    <tr>\n      <th>21414</th>\n      <td>Minsk cultural hub becomes haven from authorities</td>\n      <td>MINSK (Reuters) - In the shadow of disused Sov...</td>\n      <td>worldnews</td>\n      <td>August 22, 2017</td>\n    </tr>\n    <tr>\n      <th>21415</th>\n      <td>Vatican upbeat on possibility of Pope Francis ...</td>\n      <td>MOSCOW (Reuters) - Vatican Secretary of State ...</td>\n      <td>worldnews</td>\n      <td>August 22, 2017</td>\n    </tr>\n    <tr>\n      <th>21416</th>\n      <td>Indonesia to buy $1.14 billion worth of Russia...</td>\n      <td>JAKARTA (Reuters) - Indonesia will buy 11 Sukh...</td>\n      <td>worldnews</td>\n      <td>August 22, 2017</td>\n    </tr>\n  </tbody>\n</table>\n<p>21417 rows × 4 columns</p>\n</div>"
     },
     "execution_count": 4,
     "metadata": {},
     "output_type": "execute_result"
    }
   ],
   "source": [
    "df_true"
   ],
   "metadata": {
    "collapsed": false,
    "ExecuteTime": {
     "end_time": "2024-04-16T16:49:19.581530Z",
     "start_time": "2024-04-16T16:49:19.573857Z"
    }
   },
   "id": "22986878a87f12b1",
   "execution_count": 4
  },
  {
   "cell_type": "code",
   "outputs": [
    {
     "data": {
      "text/plain": "                                                   title  \\\n0       Donald Trump Sends Out Embarrassing New Year’...   \n1       Drunk Bragging Trump Staffer Started Russian ...   \n2       Sheriff David Clarke Becomes An Internet Joke...   \n3       Trump Is So Obsessed He Even Has Obama’s Name...   \n4       Pope Francis Just Called Out Donald Trump Dur...   \n...                                                  ...   \n23476  McPain: John McCain Furious That Iran Treated ...   \n23477  JUSTICE? Yahoo Settles E-mail Privacy Class-ac...   \n23478  Sunnistan: US and Allied ‘Safe Zone’ Plan to T...   \n23479  How to Blow $700 Million: Al Jazeera America F...   \n23480  10 U.S. Navy Sailors Held by Iranian Military ...   \n\n                                                    text      subject  \\\n0      Donald Trump just couldn t wish all Americans ...         News   \n1      House Intelligence Committee Chairman Devin Nu...         News   \n2      On Friday, it was revealed that former Milwauk...         News   \n3      On Christmas day, Donald Trump announced that ...         News   \n4      Pope Francis used his annual Christmas Day mes...         News   \n...                                                  ...          ...   \n23476  21st Century Wire says As 21WIRE reported earl...  Middle-east   \n23477  21st Century Wire says It s a familiar theme. ...  Middle-east   \n23478  Patrick Henningsen  21st Century WireRemember ...  Middle-east   \n23479  21st Century Wire says Al Jazeera America will...  Middle-east   \n23480  21st Century Wire says As 21WIRE predicted in ...  Middle-east   \n\n                    date  \n0      December 31, 2017  \n1      December 31, 2017  \n2      December 30, 2017  \n3      December 29, 2017  \n4      December 25, 2017  \n...                  ...  \n23476   January 16, 2016  \n23477   January 16, 2016  \n23478   January 15, 2016  \n23479   January 14, 2016  \n23480   January 12, 2016  \n\n[23481 rows x 4 columns]",
      "text/html": "<div>\n<style scoped>\n    .dataframe tbody tr th:only-of-type {\n        vertical-align: middle;\n    }\n\n    .dataframe tbody tr th {\n        vertical-align: top;\n    }\n\n    .dataframe thead th {\n        text-align: right;\n    }\n</style>\n<table border=\"1\" class=\"dataframe\">\n  <thead>\n    <tr style=\"text-align: right;\">\n      <th></th>\n      <th>title</th>\n      <th>text</th>\n      <th>subject</th>\n      <th>date</th>\n    </tr>\n  </thead>\n  <tbody>\n    <tr>\n      <th>0</th>\n      <td>Donald Trump Sends Out Embarrassing New Year’...</td>\n      <td>Donald Trump just couldn t wish all Americans ...</td>\n      <td>News</td>\n      <td>December 31, 2017</td>\n    </tr>\n    <tr>\n      <th>1</th>\n      <td>Drunk Bragging Trump Staffer Started Russian ...</td>\n      <td>House Intelligence Committee Chairman Devin Nu...</td>\n      <td>News</td>\n      <td>December 31, 2017</td>\n    </tr>\n    <tr>\n      <th>2</th>\n      <td>Sheriff David Clarke Becomes An Internet Joke...</td>\n      <td>On Friday, it was revealed that former Milwauk...</td>\n      <td>News</td>\n      <td>December 30, 2017</td>\n    </tr>\n    <tr>\n      <th>3</th>\n      <td>Trump Is So Obsessed He Even Has Obama’s Name...</td>\n      <td>On Christmas day, Donald Trump announced that ...</td>\n      <td>News</td>\n      <td>December 29, 2017</td>\n    </tr>\n    <tr>\n      <th>4</th>\n      <td>Pope Francis Just Called Out Donald Trump Dur...</td>\n      <td>Pope Francis used his annual Christmas Day mes...</td>\n      <td>News</td>\n      <td>December 25, 2017</td>\n    </tr>\n    <tr>\n      <th>...</th>\n      <td>...</td>\n      <td>...</td>\n      <td>...</td>\n      <td>...</td>\n    </tr>\n    <tr>\n      <th>23476</th>\n      <td>McPain: John McCain Furious That Iran Treated ...</td>\n      <td>21st Century Wire says As 21WIRE reported earl...</td>\n      <td>Middle-east</td>\n      <td>January 16, 2016</td>\n    </tr>\n    <tr>\n      <th>23477</th>\n      <td>JUSTICE? Yahoo Settles E-mail Privacy Class-ac...</td>\n      <td>21st Century Wire says It s a familiar theme. ...</td>\n      <td>Middle-east</td>\n      <td>January 16, 2016</td>\n    </tr>\n    <tr>\n      <th>23478</th>\n      <td>Sunnistan: US and Allied ‘Safe Zone’ Plan to T...</td>\n      <td>Patrick Henningsen  21st Century WireRemember ...</td>\n      <td>Middle-east</td>\n      <td>January 15, 2016</td>\n    </tr>\n    <tr>\n      <th>23479</th>\n      <td>How to Blow $700 Million: Al Jazeera America F...</td>\n      <td>21st Century Wire says Al Jazeera America will...</td>\n      <td>Middle-east</td>\n      <td>January 14, 2016</td>\n    </tr>\n    <tr>\n      <th>23480</th>\n      <td>10 U.S. Navy Sailors Held by Iranian Military ...</td>\n      <td>21st Century Wire says As 21WIRE predicted in ...</td>\n      <td>Middle-east</td>\n      <td>January 12, 2016</td>\n    </tr>\n  </tbody>\n</table>\n<p>23481 rows × 4 columns</p>\n</div>"
     },
     "execution_count": 5,
     "metadata": {},
     "output_type": "execute_result"
    }
   ],
   "source": [
    "df_fake"
   ],
   "metadata": {
    "collapsed": false,
    "ExecuteTime": {
     "end_time": "2024-04-16T16:49:19.586144Z",
     "start_time": "2024-04-16T16:49:19.582141Z"
    }
   },
   "id": "27e500077682e4d9",
   "execution_count": 5
  },
  {
   "cell_type": "markdown",
   "source": [
    "### List how many Null element are present and the memory usage for each dataframe"
   ],
   "metadata": {
    "collapsed": false
   },
   "id": "7367b94754c575bc"
  },
  {
   "cell_type": "code",
   "outputs": [
    {
     "data": {
      "text/plain": "title      0\ntext       0\nsubject    0\ndate       0\ndtype: int64"
     },
     "execution_count": 6,
     "metadata": {},
     "output_type": "execute_result"
    }
   ],
   "source": [
    "df_true.isnull().sum()"
   ],
   "metadata": {
    "collapsed": false,
    "ExecuteTime": {
     "end_time": "2024-04-16T16:49:19.592089Z",
     "start_time": "2024-04-16T16:49:19.586695Z"
    }
   },
   "id": "2c7e78d2e0c60a5",
   "execution_count": 6
  },
  {
   "cell_type": "code",
   "outputs": [
    {
     "data": {
      "text/plain": "title      0\ntext       0\nsubject    0\ndate       0\ndtype: int64"
     },
     "execution_count": 7,
     "metadata": {},
     "output_type": "execute_result"
    }
   ],
   "source": [
    "df_fake.isnull().sum()"
   ],
   "metadata": {
    "collapsed": false,
    "ExecuteTime": {
     "end_time": "2024-04-16T16:49:19.599018Z",
     "start_time": "2024-04-16T16:49:19.592839Z"
    }
   },
   "id": "7d7c2ebce9585891",
   "execution_count": 7
  },
  {
   "cell_type": "code",
   "outputs": [
    {
     "name": "stdout",
     "output_type": "stream",
     "text": [
      "<class 'pandas.core.frame.DataFrame'>\n",
      "RangeIndex: 23481 entries, 0 to 23480\n",
      "Data columns (total 4 columns):\n",
      " #   Column   Non-Null Count  Dtype \n",
      "---  ------   --------------  ----- \n",
      " 0   title    23481 non-null  object\n",
      " 1   text     23481 non-null  object\n",
      " 2   subject  23481 non-null  object\n",
      " 3   date     23481 non-null  object\n",
      "dtypes: object(4)\n",
      "memory usage: 733.9+ KB\n"
     ]
    }
   ],
   "source": [
    "df_fake.info()"
   ],
   "metadata": {
    "collapsed": false,
    "ExecuteTime": {
     "end_time": "2024-04-16T16:49:19.606450Z",
     "start_time": "2024-04-16T16:49:19.599786Z"
    }
   },
   "id": "6e07b2da57ade565",
   "execution_count": 8
  },
  {
   "cell_type": "code",
   "outputs": [
    {
     "name": "stdout",
     "output_type": "stream",
     "text": [
      "<class 'pandas.core.frame.DataFrame'>\n",
      "RangeIndex: 21417 entries, 0 to 21416\n",
      "Data columns (total 4 columns):\n",
      " #   Column   Non-Null Count  Dtype \n",
      "---  ------   --------------  ----- \n",
      " 0   title    21417 non-null  object\n",
      " 1   text     21417 non-null  object\n",
      " 2   subject  21417 non-null  object\n",
      " 3   date     21417 non-null  object\n",
      "dtypes: object(4)\n",
      "memory usage: 669.4+ KB\n"
     ]
    }
   ],
   "source": [
    "df_true.info()"
   ],
   "metadata": {
    "collapsed": false,
    "ExecuteTime": {
     "end_time": "2024-04-16T16:49:19.613268Z",
     "start_time": "2024-04-16T16:49:19.607113Z"
    }
   },
   "id": "2fe676c1cd680019",
   "execution_count": 9
  },
  {
   "cell_type": "markdown",
   "source": [
    "# Task #2: Perform Exploratory Data Analysis"
   ],
   "metadata": {
    "collapsed": false
   },
   "id": "2cb1a432c03f2ef2"
  },
  {
   "cell_type": "markdown",
   "source": [
    "### Add a target class column to indicate whether the news is real or fake"
   ],
   "metadata": {
    "collapsed": false
   },
   "id": "f8c373f6cdf94f07"
  },
  {
   "cell_type": "code",
   "outputs": [
    {
     "data": {
      "text/plain": "                                               title  \\\n0  As U.S. budget fight looms, Republicans flip t...   \n1  U.S. military to accept transgender recruits o...   \n2  Senior U.S. Republican senator: 'Let Mr. Muell...   \n3  FBI Russia probe helped by Australian diplomat...   \n4  Trump wants Postal Service to charge 'much mor...   \n\n                                                text       subject  \\\n0  WASHINGTON (Reuters) - The head of a conservat...  politicsNews   \n1  WASHINGTON (Reuters) - Transgender people will...  politicsNews   \n2  WASHINGTON (Reuters) - The special counsel inv...  politicsNews   \n3  WASHINGTON (Reuters) - Trump campaign adviser ...  politicsNews   \n4  SEATTLE/WASHINGTON (Reuters) - President Donal...  politicsNews   \n\n                 date  isfake  \n0  December 31, 2017        1  \n1  December 29, 2017        1  \n2  December 31, 2017        1  \n3  December 30, 2017        1  \n4  December 29, 2017        1  ",
      "text/html": "<div>\n<style scoped>\n    .dataframe tbody tr th:only-of-type {\n        vertical-align: middle;\n    }\n\n    .dataframe tbody tr th {\n        vertical-align: top;\n    }\n\n    .dataframe thead th {\n        text-align: right;\n    }\n</style>\n<table border=\"1\" class=\"dataframe\">\n  <thead>\n    <tr style=\"text-align: right;\">\n      <th></th>\n      <th>title</th>\n      <th>text</th>\n      <th>subject</th>\n      <th>date</th>\n      <th>isfake</th>\n    </tr>\n  </thead>\n  <tbody>\n    <tr>\n      <th>0</th>\n      <td>As U.S. budget fight looms, Republicans flip t...</td>\n      <td>WASHINGTON (Reuters) - The head of a conservat...</td>\n      <td>politicsNews</td>\n      <td>December 31, 2017</td>\n      <td>1</td>\n    </tr>\n    <tr>\n      <th>1</th>\n      <td>U.S. military to accept transgender recruits o...</td>\n      <td>WASHINGTON (Reuters) - Transgender people will...</td>\n      <td>politicsNews</td>\n      <td>December 29, 2017</td>\n      <td>1</td>\n    </tr>\n    <tr>\n      <th>2</th>\n      <td>Senior U.S. Republican senator: 'Let Mr. Muell...</td>\n      <td>WASHINGTON (Reuters) - The special counsel inv...</td>\n      <td>politicsNews</td>\n      <td>December 31, 2017</td>\n      <td>1</td>\n    </tr>\n    <tr>\n      <th>3</th>\n      <td>FBI Russia probe helped by Australian diplomat...</td>\n      <td>WASHINGTON (Reuters) - Trump campaign adviser ...</td>\n      <td>politicsNews</td>\n      <td>December 30, 2017</td>\n      <td>1</td>\n    </tr>\n    <tr>\n      <th>4</th>\n      <td>Trump wants Postal Service to charge 'much mor...</td>\n      <td>SEATTLE/WASHINGTON (Reuters) - President Donal...</td>\n      <td>politicsNews</td>\n      <td>December 29, 2017</td>\n      <td>1</td>\n    </tr>\n  </tbody>\n</table>\n</div>"
     },
     "execution_count": 10,
     "metadata": {},
     "output_type": "execute_result"
    }
   ],
   "source": [
    "df_true['isfake'] = 1\n",
    "df_true.head()"
   ],
   "metadata": {
    "collapsed": false,
    "ExecuteTime": {
     "end_time": "2024-04-16T16:49:19.618997Z",
     "start_time": "2024-04-16T16:49:19.615300Z"
    }
   },
   "id": "9641b784048f62dd",
   "execution_count": 10
  },
  {
   "cell_type": "code",
   "outputs": [
    {
     "data": {
      "text/plain": "                                               title  \\\n0   Donald Trump Sends Out Embarrassing New Year’...   \n1   Drunk Bragging Trump Staffer Started Russian ...   \n2   Sheriff David Clarke Becomes An Internet Joke...   \n3   Trump Is So Obsessed He Even Has Obama’s Name...   \n4   Pope Francis Just Called Out Donald Trump Dur...   \n\n                                                text subject  \\\n0  Donald Trump just couldn t wish all Americans ...    News   \n1  House Intelligence Committee Chairman Devin Nu...    News   \n2  On Friday, it was revealed that former Milwauk...    News   \n3  On Christmas day, Donald Trump announced that ...    News   \n4  Pope Francis used his annual Christmas Day mes...    News   \n\n                date  isfake  \n0  December 31, 2017       0  \n1  December 31, 2017       0  \n2  December 30, 2017       0  \n3  December 29, 2017       0  \n4  December 25, 2017       0  ",
      "text/html": "<div>\n<style scoped>\n    .dataframe tbody tr th:only-of-type {\n        vertical-align: middle;\n    }\n\n    .dataframe tbody tr th {\n        vertical-align: top;\n    }\n\n    .dataframe thead th {\n        text-align: right;\n    }\n</style>\n<table border=\"1\" class=\"dataframe\">\n  <thead>\n    <tr style=\"text-align: right;\">\n      <th></th>\n      <th>title</th>\n      <th>text</th>\n      <th>subject</th>\n      <th>date</th>\n      <th>isfake</th>\n    </tr>\n  </thead>\n  <tbody>\n    <tr>\n      <th>0</th>\n      <td>Donald Trump Sends Out Embarrassing New Year’...</td>\n      <td>Donald Trump just couldn t wish all Americans ...</td>\n      <td>News</td>\n      <td>December 31, 2017</td>\n      <td>0</td>\n    </tr>\n    <tr>\n      <th>1</th>\n      <td>Drunk Bragging Trump Staffer Started Russian ...</td>\n      <td>House Intelligence Committee Chairman Devin Nu...</td>\n      <td>News</td>\n      <td>December 31, 2017</td>\n      <td>0</td>\n    </tr>\n    <tr>\n      <th>2</th>\n      <td>Sheriff David Clarke Becomes An Internet Joke...</td>\n      <td>On Friday, it was revealed that former Milwauk...</td>\n      <td>News</td>\n      <td>December 30, 2017</td>\n      <td>0</td>\n    </tr>\n    <tr>\n      <th>3</th>\n      <td>Trump Is So Obsessed He Even Has Obama’s Name...</td>\n      <td>On Christmas day, Donald Trump announced that ...</td>\n      <td>News</td>\n      <td>December 29, 2017</td>\n      <td>0</td>\n    </tr>\n    <tr>\n      <th>4</th>\n      <td>Pope Francis Just Called Out Donald Trump Dur...</td>\n      <td>Pope Francis used his annual Christmas Day mes...</td>\n      <td>News</td>\n      <td>December 25, 2017</td>\n      <td>0</td>\n    </tr>\n  </tbody>\n</table>\n</div>"
     },
     "execution_count": 11,
     "metadata": {},
     "output_type": "execute_result"
    }
   ],
   "source": [
    "df_fake['isfake'] = 0\n",
    "df_fake.head()"
   ],
   "metadata": {
    "collapsed": false,
    "ExecuteTime": {
     "end_time": "2024-04-16T16:49:19.623103Z",
     "start_time": "2024-04-16T16:49:19.619637Z"
    }
   },
   "id": "5d628eb2c7131b84",
   "execution_count": 11
  },
  {
   "cell_type": "code",
   "outputs": [
    {
     "data": {
      "text/plain": "                                                   title  \\\n0      As U.S. budget fight looms, Republicans flip t...   \n1      U.S. military to accept transgender recruits o...   \n2      Senior U.S. Republican senator: 'Let Mr. Muell...   \n3      FBI Russia probe helped by Australian diplomat...   \n4      Trump wants Postal Service to charge 'much mor...   \n...                                                  ...   \n44893  McPain: John McCain Furious That Iran Treated ...   \n44894  JUSTICE? Yahoo Settles E-mail Privacy Class-ac...   \n44895  Sunnistan: US and Allied ‘Safe Zone’ Plan to T...   \n44896  How to Blow $700 Million: Al Jazeera America F...   \n44897  10 U.S. Navy Sailors Held by Iranian Military ...   \n\n                                                    text       subject  \\\n0      WASHINGTON (Reuters) - The head of a conservat...  politicsNews   \n1      WASHINGTON (Reuters) - Transgender people will...  politicsNews   \n2      WASHINGTON (Reuters) - The special counsel inv...  politicsNews   \n3      WASHINGTON (Reuters) - Trump campaign adviser ...  politicsNews   \n4      SEATTLE/WASHINGTON (Reuters) - President Donal...  politicsNews   \n...                                                  ...           ...   \n44893  21st Century Wire says As 21WIRE reported earl...   Middle-east   \n44894  21st Century Wire says It s a familiar theme. ...   Middle-east   \n44895  Patrick Henningsen  21st Century WireRemember ...   Middle-east   \n44896  21st Century Wire says Al Jazeera America will...   Middle-east   \n44897  21st Century Wire says As 21WIRE predicted in ...   Middle-east   \n\n                     date  isfake  \n0      December 31, 2017        1  \n1      December 29, 2017        1  \n2      December 31, 2017        1  \n3      December 30, 2017        1  \n4      December 29, 2017        1  \n...                   ...     ...  \n44893    January 16, 2016       0  \n44894    January 16, 2016       0  \n44895    January 15, 2016       0  \n44896    January 14, 2016       0  \n44897    January 12, 2016       0  \n\n[44898 rows x 5 columns]",
      "text/html": "<div>\n<style scoped>\n    .dataframe tbody tr th:only-of-type {\n        vertical-align: middle;\n    }\n\n    .dataframe tbody tr th {\n        vertical-align: top;\n    }\n\n    .dataframe thead th {\n        text-align: right;\n    }\n</style>\n<table border=\"1\" class=\"dataframe\">\n  <thead>\n    <tr style=\"text-align: right;\">\n      <th></th>\n      <th>title</th>\n      <th>text</th>\n      <th>subject</th>\n      <th>date</th>\n      <th>isfake</th>\n    </tr>\n  </thead>\n  <tbody>\n    <tr>\n      <th>0</th>\n      <td>As U.S. budget fight looms, Republicans flip t...</td>\n      <td>WASHINGTON (Reuters) - The head of a conservat...</td>\n      <td>politicsNews</td>\n      <td>December 31, 2017</td>\n      <td>1</td>\n    </tr>\n    <tr>\n      <th>1</th>\n      <td>U.S. military to accept transgender recruits o...</td>\n      <td>WASHINGTON (Reuters) - Transgender people will...</td>\n      <td>politicsNews</td>\n      <td>December 29, 2017</td>\n      <td>1</td>\n    </tr>\n    <tr>\n      <th>2</th>\n      <td>Senior U.S. Republican senator: 'Let Mr. Muell...</td>\n      <td>WASHINGTON (Reuters) - The special counsel inv...</td>\n      <td>politicsNews</td>\n      <td>December 31, 2017</td>\n      <td>1</td>\n    </tr>\n    <tr>\n      <th>3</th>\n      <td>FBI Russia probe helped by Australian diplomat...</td>\n      <td>WASHINGTON (Reuters) - Trump campaign adviser ...</td>\n      <td>politicsNews</td>\n      <td>December 30, 2017</td>\n      <td>1</td>\n    </tr>\n    <tr>\n      <th>4</th>\n      <td>Trump wants Postal Service to charge 'much mor...</td>\n      <td>SEATTLE/WASHINGTON (Reuters) - President Donal...</td>\n      <td>politicsNews</td>\n      <td>December 29, 2017</td>\n      <td>1</td>\n    </tr>\n    <tr>\n      <th>...</th>\n      <td>...</td>\n      <td>...</td>\n      <td>...</td>\n      <td>...</td>\n      <td>...</td>\n    </tr>\n    <tr>\n      <th>44893</th>\n      <td>McPain: John McCain Furious That Iran Treated ...</td>\n      <td>21st Century Wire says As 21WIRE reported earl...</td>\n      <td>Middle-east</td>\n      <td>January 16, 2016</td>\n      <td>0</td>\n    </tr>\n    <tr>\n      <th>44894</th>\n      <td>JUSTICE? Yahoo Settles E-mail Privacy Class-ac...</td>\n      <td>21st Century Wire says It s a familiar theme. ...</td>\n      <td>Middle-east</td>\n      <td>January 16, 2016</td>\n      <td>0</td>\n    </tr>\n    <tr>\n      <th>44895</th>\n      <td>Sunnistan: US and Allied ‘Safe Zone’ Plan to T...</td>\n      <td>Patrick Henningsen  21st Century WireRemember ...</td>\n      <td>Middle-east</td>\n      <td>January 15, 2016</td>\n      <td>0</td>\n    </tr>\n    <tr>\n      <th>44896</th>\n      <td>How to Blow $700 Million: Al Jazeera America F...</td>\n      <td>21st Century Wire says Al Jazeera America will...</td>\n      <td>Middle-east</td>\n      <td>January 14, 2016</td>\n      <td>0</td>\n    </tr>\n    <tr>\n      <th>44897</th>\n      <td>10 U.S. Navy Sailors Held by Iranian Military ...</td>\n      <td>21st Century Wire says As 21WIRE predicted in ...</td>\n      <td>Middle-east</td>\n      <td>January 12, 2016</td>\n      <td>0</td>\n    </tr>\n  </tbody>\n</table>\n<p>44898 rows × 5 columns</p>\n</div>"
     },
     "execution_count": 12,
     "metadata": {},
     "output_type": "execute_result"
    }
   ],
   "source": [
    "df = pd.concat([df_true, df_fake]).reset_index(drop = True)\n",
    "df"
   ],
   "metadata": {
    "collapsed": false,
    "ExecuteTime": {
     "end_time": "2024-04-16T16:49:19.630849Z",
     "start_time": "2024-04-16T16:49:19.623689Z"
    }
   },
   "id": "17d87f446654438e",
   "execution_count": 12
  },
  {
   "cell_type": "code",
   "outputs": [],
   "source": [
    "df.drop(columns = ['date'], inplace = True)"
   ],
   "metadata": {
    "collapsed": false,
    "ExecuteTime": {
     "end_time": "2024-04-16T16:49:19.635934Z",
     "start_time": "2024-04-16T16:49:19.631443Z"
    }
   },
   "id": "176528f5897bb7ce",
   "execution_count": 13
  },
  {
   "cell_type": "markdown",
   "source": [
    "### Combine title and text together"
   ],
   "metadata": {
    "collapsed": false
   },
   "id": "dbb63be742bf81a1"
  },
  {
   "cell_type": "code",
   "outputs": [
    {
     "data": {
      "text/plain": "                                               title  \\\n0  As U.S. budget fight looms, Republicans flip t...   \n1  U.S. military to accept transgender recruits o...   \n2  Senior U.S. Republican senator: 'Let Mr. Muell...   \n3  FBI Russia probe helped by Australian diplomat...   \n4  Trump wants Postal Service to charge 'much mor...   \n\n                                                text       subject  isfake  \\\n0  WASHINGTON (Reuters) - The head of a conservat...  politicsNews       1   \n1  WASHINGTON (Reuters) - Transgender people will...  politicsNews       1   \n2  WASHINGTON (Reuters) - The special counsel inv...  politicsNews       1   \n3  WASHINGTON (Reuters) - Trump campaign adviser ...  politicsNews       1   \n4  SEATTLE/WASHINGTON (Reuters) - President Donal...  politicsNews       1   \n\n                                            original  \n0  As U.S. budget fight looms, Republicans flip t...  \n1  U.S. military to accept transgender recruits o...  \n2  Senior U.S. Republican senator: 'Let Mr. Muell...  \n3  FBI Russia probe helped by Australian diplomat...  \n4  Trump wants Postal Service to charge 'much mor...  ",
      "text/html": "<div>\n<style scoped>\n    .dataframe tbody tr th:only-of-type {\n        vertical-align: middle;\n    }\n\n    .dataframe tbody tr th {\n        vertical-align: top;\n    }\n\n    .dataframe thead th {\n        text-align: right;\n    }\n</style>\n<table border=\"1\" class=\"dataframe\">\n  <thead>\n    <tr style=\"text-align: right;\">\n      <th></th>\n      <th>title</th>\n      <th>text</th>\n      <th>subject</th>\n      <th>isfake</th>\n      <th>original</th>\n    </tr>\n  </thead>\n  <tbody>\n    <tr>\n      <th>0</th>\n      <td>As U.S. budget fight looms, Republicans flip t...</td>\n      <td>WASHINGTON (Reuters) - The head of a conservat...</td>\n      <td>politicsNews</td>\n      <td>1</td>\n      <td>As U.S. budget fight looms, Republicans flip t...</td>\n    </tr>\n    <tr>\n      <th>1</th>\n      <td>U.S. military to accept transgender recruits o...</td>\n      <td>WASHINGTON (Reuters) - Transgender people will...</td>\n      <td>politicsNews</td>\n      <td>1</td>\n      <td>U.S. military to accept transgender recruits o...</td>\n    </tr>\n    <tr>\n      <th>2</th>\n      <td>Senior U.S. Republican senator: 'Let Mr. Muell...</td>\n      <td>WASHINGTON (Reuters) - The special counsel inv...</td>\n      <td>politicsNews</td>\n      <td>1</td>\n      <td>Senior U.S. Republican senator: 'Let Mr. Muell...</td>\n    </tr>\n    <tr>\n      <th>3</th>\n      <td>FBI Russia probe helped by Australian diplomat...</td>\n      <td>WASHINGTON (Reuters) - Trump campaign adviser ...</td>\n      <td>politicsNews</td>\n      <td>1</td>\n      <td>FBI Russia probe helped by Australian diplomat...</td>\n    </tr>\n    <tr>\n      <th>4</th>\n      <td>Trump wants Postal Service to charge 'much mor...</td>\n      <td>SEATTLE/WASHINGTON (Reuters) - President Donal...</td>\n      <td>politicsNews</td>\n      <td>1</td>\n      <td>Trump wants Postal Service to charge 'much mor...</td>\n    </tr>\n  </tbody>\n</table>\n</div>"
     },
     "execution_count": 14,
     "metadata": {},
     "output_type": "execute_result"
    }
   ],
   "source": [
    "df['original'] = df['title'] + ' ' + df['text']\n",
    "df.head()"
   ],
   "metadata": {
    "collapsed": false,
    "ExecuteTime": {
     "end_time": "2024-04-16T16:49:19.676351Z",
     "start_time": "2024-04-16T16:49:19.636681Z"
    }
   },
   "id": "2a2c8ce4483e9130",
   "execution_count": 14
  },
  {
   "cell_type": "code",
   "outputs": [
    {
     "data": {
      "text/plain": "'As U.S. budget fight looms, Republicans flip their fiscal script WASHINGTON (Reuters) - The head of a conservative Republican faction in the U.S. Congress, who voted this month for a huge expansion of the national debt to pay for tax cuts, called himself a “fiscal conservative” on Sunday and urged budget restraint in 2018. In keeping with a sharp pivot under way among Republicans, U.S. Representative Mark Meadows, speaking on CBS’ “Face the Nation,” drew a hard line on federal spending, which lawmakers are bracing to do battle over in January. When they return from the holidays on Wednesday, lawmakers will begin trying to pass a federal budget in a fight likely to be linked to other issues, such as immigration policy, even as the November congressional election campaigns approach in which Republicans will seek to keep control of Congress. President Donald Trump and his Republicans want a big budget increase in military spending, while Democrats also want proportional increases for non-defense “discretionary” spending on programs that support education, scientific research, infrastructure, public health and environmental protection. “The (Trump) administration has already been willing to say: ‘We’re going to increase non-defense discretionary spending ... by about 7 percent,’” Meadows, chairman of the small but influential House Freedom Caucus, said on the program. “Now, Democrats are saying that’s not enough, we need to give the government a pay raise of 10 to 11 percent. For a fiscal conservative, I don’t see where the rationale is. ... Eventually you run out of other people’s money,” he said. Meadows was among Republicans who voted in late December for their party’s debt-financed tax overhaul, which is expected to balloon the federal budget deficit and add about $1.5 trillion over 10 years to the $20 trillion national debt. “It’s interesting to hear Mark talk about fiscal responsibility,” Democratic U.S. Representative Joseph Crowley said on CBS. Crowley said the Republican tax bill would require the  United States to borrow $1.5 trillion, to be paid off by future generations, to finance tax cuts for corporations and the rich. “This is one of the least ... fiscally responsible bills we’ve ever seen passed in the history of the House of Representatives. I think we’re going to be paying for this for many, many years to come,” Crowley said. Republicans insist the tax package, the biggest U.S. tax overhaul in more than 30 years,  will boost the economy and job growth. House Speaker Paul Ryan, who also supported the tax bill, recently went further than Meadows, making clear in a radio interview that welfare or “entitlement reform,” as the party often calls it, would be a top Republican priority in 2018. In Republican parlance, “entitlement” programs mean food stamps, housing assistance, Medicare and Medicaid health insurance for the elderly, poor and disabled, as well as other programs created by Washington to assist the needy. Democrats seized on Ryan’s early December remarks, saying they showed Republicans would try to pay for their tax overhaul by seeking spending cuts for social programs. But the goals of House Republicans may have to take a back seat to the Senate, where the votes of some Democrats will be needed to approve a budget and prevent a government shutdown. Democrats will use their leverage in the Senate, which Republicans narrowly control, to defend both discretionary non-defense programs and social spending, while tackling the issue of the “Dreamers,” people brought illegally to the country as children. Trump in September put a March 2018 expiration date on the Deferred Action for Childhood Arrivals, or DACA, program, which protects the young immigrants from deportation and provides them with work permits. The president has said in recent Twitter messages he wants funding for his proposed Mexican border wall and other immigration law changes in exchange for agreeing to help the Dreamers. Representative Debbie Dingell told CBS she did not favor linking that issue to other policy objectives, such as wall funding. “We need to do DACA clean,” she said.  On Wednesday, Trump aides will meet with congressional leaders to discuss those issues. That will be followed by a weekend of strategy sessions for Trump and Republican leaders on Jan. 6 and 7, the White House said. Trump was also scheduled to meet on Sunday with Florida Republican Governor Rick Scott, who wants more emergency aid. The House has passed an $81 billion aid package after hurricanes in Florida, Texas and Puerto Rico, and wildfires in California. The package far exceeded the $44 billion requested by the Trump administration. The Senate has not yet voted on the aid. '"
     },
     "execution_count": 15,
     "metadata": {},
     "output_type": "execute_result"
    }
   ],
   "source": [
    "df['original'][0]"
   ],
   "metadata": {
    "collapsed": false,
    "ExecuteTime": {
     "end_time": "2024-04-16T16:49:19.679031Z",
     "start_time": "2024-04-16T16:49:19.676974Z"
    }
   },
   "id": "77a4ad8c32a4ae52",
   "execution_count": 15
  },
  {
   "cell_type": "markdown",
   "source": [
    "# Task #3: Perform Data Cleaning"
   ],
   "metadata": {
    "collapsed": false
   },
   "id": "85a07988991c14f8"
  },
  {
   "cell_type": "code",
   "outputs": [
    {
     "name": "stderr",
     "output_type": "stream",
     "text": [
      "[nltk_data] Downloading package stopwords to\n",
      "[nltk_data]     /Users/anirudhrao/nltk_data...\n",
      "[nltk_data]   Package stopwords is already up-to-date!\n"
     ]
    },
    {
     "data": {
      "text/plain": "True"
     },
     "execution_count": 16,
     "metadata": {},
     "output_type": "execute_result"
    }
   ],
   "source": [
    "nltk.download(\"stopwords\")"
   ],
   "metadata": {
    "collapsed": false,
    "ExecuteTime": {
     "end_time": "2024-04-16T16:49:19.682384Z",
     "start_time": "2024-04-16T16:49:19.679626Z"
    }
   },
   "id": "ec2d3d15faf3a31e",
   "execution_count": 16
  },
  {
   "cell_type": "markdown",
   "source": [
    "### Obtain additional stopwords from nltk"
   ],
   "metadata": {
    "collapsed": false
   },
   "id": "16abeffd0cc15397"
  },
  {
   "cell_type": "code",
   "outputs": [],
   "source": [
    "from nltk.corpus import stopwords\n",
    "stop_words = stopwords.words('english')\n",
    "stop_words.extend(['from', 'subject', 're', 'edu', 'use'])"
   ],
   "metadata": {
    "collapsed": false,
    "ExecuteTime": {
     "end_time": "2024-04-16T16:49:19.685773Z",
     "start_time": "2024-04-16T16:49:19.682993Z"
    }
   },
   "id": "6417dbbdb49204f7",
   "execution_count": 17
  },
  {
   "cell_type": "markdown",
   "source": [
    "### Remove stopwords and remove words with 2 or less characters"
   ],
   "metadata": {
    "collapsed": false
   },
   "id": "73d6c6b024559402"
  },
  {
   "cell_type": "code",
   "outputs": [],
   "source": [
    "def preprocess(text):\n",
    "    result = []\n",
    "    for token in gensim.utils.simple_preprocess(text):\n",
    "        if token not in gensim.parsing.preprocessing.STOPWORDS and len(token) > 3 and token not in stop_words:\n",
    "            result.append(token)\n",
    "            \n",
    "    return result"
   ],
   "metadata": {
    "collapsed": false,
    "ExecuteTime": {
     "end_time": "2024-04-16T16:49:19.688234Z",
     "start_time": "2024-04-16T16:49:19.686376Z"
    }
   },
   "id": "eb96a51516df0d9a",
   "execution_count": 18
  },
  {
   "cell_type": "markdown",
   "source": [
    "### Apply the function to the dataframe"
   ],
   "metadata": {
    "collapsed": false
   },
   "id": "cc55ded6962bd51a"
  },
  {
   "cell_type": "code",
   "outputs": [],
   "source": [
    "df['clean'] = df['original'].apply(preprocess)"
   ],
   "metadata": {
    "collapsed": false,
    "ExecuteTime": {
     "end_time": "2024-04-16T16:49:38.967633Z",
     "start_time": "2024-04-16T16:49:19.688744Z"
    }
   },
   "id": "ae964f4b72fdc842",
   "execution_count": 19
  },
  {
   "cell_type": "markdown",
   "source": [
    "### Show original news"
   ],
   "metadata": {
    "collapsed": false
   },
   "id": "8fc2b6ae8109d185"
  },
  {
   "cell_type": "code",
   "outputs": [
    {
     "data": {
      "text/plain": "'As U.S. budget fight looms, Republicans flip their fiscal script WASHINGTON (Reuters) - The head of a conservative Republican faction in the U.S. Congress, who voted this month for a huge expansion of the national debt to pay for tax cuts, called himself a “fiscal conservative” on Sunday and urged budget restraint in 2018. In keeping with a sharp pivot under way among Republicans, U.S. Representative Mark Meadows, speaking on CBS’ “Face the Nation,” drew a hard line on federal spending, which lawmakers are bracing to do battle over in January. When they return from the holidays on Wednesday, lawmakers will begin trying to pass a federal budget in a fight likely to be linked to other issues, such as immigration policy, even as the November congressional election campaigns approach in which Republicans will seek to keep control of Congress. President Donald Trump and his Republicans want a big budget increase in military spending, while Democrats also want proportional increases for non-defense “discretionary” spending on programs that support education, scientific research, infrastructure, public health and environmental protection. “The (Trump) administration has already been willing to say: ‘We’re going to increase non-defense discretionary spending ... by about 7 percent,’” Meadows, chairman of the small but influential House Freedom Caucus, said on the program. “Now, Democrats are saying that’s not enough, we need to give the government a pay raise of 10 to 11 percent. For a fiscal conservative, I don’t see where the rationale is. ... Eventually you run out of other people’s money,” he said. Meadows was among Republicans who voted in late December for their party’s debt-financed tax overhaul, which is expected to balloon the federal budget deficit and add about $1.5 trillion over 10 years to the $20 trillion national debt. “It’s interesting to hear Mark talk about fiscal responsibility,” Democratic U.S. Representative Joseph Crowley said on CBS. Crowley said the Republican tax bill would require the  United States to borrow $1.5 trillion, to be paid off by future generations, to finance tax cuts for corporations and the rich. “This is one of the least ... fiscally responsible bills we’ve ever seen passed in the history of the House of Representatives. I think we’re going to be paying for this for many, many years to come,” Crowley said. Republicans insist the tax package, the biggest U.S. tax overhaul in more than 30 years,  will boost the economy and job growth. House Speaker Paul Ryan, who also supported the tax bill, recently went further than Meadows, making clear in a radio interview that welfare or “entitlement reform,” as the party often calls it, would be a top Republican priority in 2018. In Republican parlance, “entitlement” programs mean food stamps, housing assistance, Medicare and Medicaid health insurance for the elderly, poor and disabled, as well as other programs created by Washington to assist the needy. Democrats seized on Ryan’s early December remarks, saying they showed Republicans would try to pay for their tax overhaul by seeking spending cuts for social programs. But the goals of House Republicans may have to take a back seat to the Senate, where the votes of some Democrats will be needed to approve a budget and prevent a government shutdown. Democrats will use their leverage in the Senate, which Republicans narrowly control, to defend both discretionary non-defense programs and social spending, while tackling the issue of the “Dreamers,” people brought illegally to the country as children. Trump in September put a March 2018 expiration date on the Deferred Action for Childhood Arrivals, or DACA, program, which protects the young immigrants from deportation and provides them with work permits. The president has said in recent Twitter messages he wants funding for his proposed Mexican border wall and other immigration law changes in exchange for agreeing to help the Dreamers. Representative Debbie Dingell told CBS she did not favor linking that issue to other policy objectives, such as wall funding. “We need to do DACA clean,” she said.  On Wednesday, Trump aides will meet with congressional leaders to discuss those issues. That will be followed by a weekend of strategy sessions for Trump and Republican leaders on Jan. 6 and 7, the White House said. Trump was also scheduled to meet on Sunday with Florida Republican Governor Rick Scott, who wants more emergency aid. The House has passed an $81 billion aid package after hurricanes in Florida, Texas and Puerto Rico, and wildfires in California. The package far exceeded the $44 billion requested by the Trump administration. The Senate has not yet voted on the aid. '"
     },
     "execution_count": 20,
     "metadata": {},
     "output_type": "execute_result"
    }
   ],
   "source": [
    "df['original'][0]"
   ],
   "metadata": {
    "collapsed": false,
    "ExecuteTime": {
     "end_time": "2024-04-16T16:49:38.970465Z",
     "start_time": "2024-04-16T16:49:38.968299Z"
    }
   },
   "id": "98badbea835c913e",
   "execution_count": 20
  },
  {
   "cell_type": "markdown",
   "source": [
    "### Show cleaned up news after removing stopwords"
   ],
   "metadata": {
    "collapsed": false
   },
   "id": "bd22f1e05a3c82c5"
  },
  {
   "cell_type": "code",
   "outputs": [
    {
     "name": "stdout",
     "output_type": "stream",
     "text": [
      "['budget', 'fight', 'looms', 'republicans', 'flip', 'fiscal', 'script', 'washington', 'reuters', 'head', 'conservative', 'republican', 'faction', 'congress', 'voted', 'month', 'huge', 'expansion', 'national', 'debt', 'cuts', 'called', 'fiscal', 'conservative', 'sunday', 'urged', 'budget', 'restraint', 'keeping', 'sharp', 'pivot', 'republicans', 'representative', 'mark', 'meadows', 'speaking', 'face', 'nation', 'drew', 'hard', 'line', 'federal', 'spending', 'lawmakers', 'bracing', 'battle', 'january', 'return', 'holidays', 'wednesday', 'lawmakers', 'begin', 'trying', 'pass', 'federal', 'budget', 'fight', 'likely', 'linked', 'issues', 'immigration', 'policy', 'november', 'congressional', 'election', 'campaigns', 'approach', 'republicans', 'seek', 'control', 'congress', 'president', 'donald', 'trump', 'republicans', 'want', 'budget', 'increase', 'military', 'spending', 'democrats', 'want', 'proportional', 'increases', 'defense', 'discretionary', 'spending', 'programs', 'support', 'education', 'scientific', 'research', 'infrastructure', 'public', 'health', 'environmental', 'protection', 'trump', 'administration', 'willing', 'going', 'increase', 'defense', 'discretionary', 'spending', 'percent', 'meadows', 'chairman', 'small', 'influential', 'house', 'freedom', 'caucus', 'said', 'program', 'democrats', 'saying', 'need', 'government', 'raise', 'percent', 'fiscal', 'conservative', 'rationale', 'eventually', 'people', 'money', 'said', 'meadows', 'republicans', 'voted', 'late', 'december', 'party', 'debt', 'financed', 'overhaul', 'expected', 'balloon', 'federal', 'budget', 'deficit', 'trillion', 'years', 'trillion', 'national', 'debt', 'interesting', 'hear', 'mark', 'talk', 'fiscal', 'responsibility', 'democratic', 'representative', 'joseph', 'crowley', 'said', 'crowley', 'said', 'republican', 'require', 'united', 'states', 'borrow', 'trillion', 'paid', 'future', 'generations', 'finance', 'cuts', 'corporations', 'rich', 'fiscally', 'responsible', 'bills', 'seen', 'passed', 'history', 'house', 'representatives', 'think', 'going', 'paying', 'years', 'come', 'crowley', 'said', 'republicans', 'insist', 'package', 'biggest', 'overhaul', 'years', 'boost', 'economy', 'growth', 'house', 'speaker', 'paul', 'ryan', 'supported', 'recently', 'went', 'meadows', 'making', 'clear', 'radio', 'interview', 'welfare', 'entitlement', 'reform', 'party', 'calls', 'republican', 'priority', 'republican', 'parlance', 'entitlement', 'programs', 'mean', 'food', 'stamps', 'housing', 'assistance', 'medicare', 'medicaid', 'health', 'insurance', 'elderly', 'poor', 'disabled', 'programs', 'created', 'washington', 'assist', 'needy', 'democrats', 'seized', 'ryan', 'early', 'december', 'remarks', 'saying', 'showed', 'republicans', 'overhaul', 'seeking', 'spending', 'cuts', 'social', 'programs', 'goals', 'house', 'republicans', 'seat', 'senate', 'votes', 'democrats', 'needed', 'approve', 'budget', 'prevent', 'government', 'shutdown', 'democrats', 'leverage', 'senate', 'republicans', 'narrowly', 'control', 'defend', 'discretionary', 'defense', 'programs', 'social', 'spending', 'tackling', 'issue', 'dreamers', 'people', 'brought', 'illegally', 'country', 'children', 'trump', 'september', 'march', 'expiration', 'date', 'deferred', 'action', 'childhood', 'arrivals', 'daca', 'program', 'protects', 'young', 'immigrants', 'deportation', 'provides', 'work', 'permits', 'president', 'said', 'recent', 'twitter', 'messages', 'wants', 'funding', 'proposed', 'mexican', 'border', 'wall', 'immigration', 'changes', 'exchange', 'agreeing', 'help', 'dreamers', 'representative', 'debbie', 'dingell', 'told', 'favor', 'linking', 'issue', 'policy', 'objectives', 'wall', 'funding', 'need', 'daca', 'clean', 'said', 'wednesday', 'trump', 'aides', 'meet', 'congressional', 'leaders', 'discuss', 'issues', 'followed', 'weekend', 'strategy', 'sessions', 'trump', 'republican', 'leaders', 'white', 'house', 'said', 'trump', 'scheduled', 'meet', 'sunday', 'florida', 'republican', 'governor', 'rick', 'scott', 'wants', 'emergency', 'house', 'passed', 'billion', 'package', 'hurricanes', 'florida', 'texas', 'puerto', 'rico', 'wildfires', 'california', 'package', 'exceeded', 'billion', 'requested', 'trump', 'administration', 'senate', 'voted']\n"
     ]
    }
   ],
   "source": [
    "print(df['clean'][0])"
   ],
   "metadata": {
    "collapsed": false,
    "ExecuteTime": {
     "end_time": "2024-04-16T16:49:38.972800Z",
     "start_time": "2024-04-16T16:49:38.971088Z"
    }
   },
   "id": "df78606e3264673b",
   "execution_count": 21
  },
  {
   "cell_type": "code",
   "outputs": [
    {
     "data": {
      "text/plain": "                                                   title  \\\n0      As U.S. budget fight looms, Republicans flip t...   \n1      U.S. military to accept transgender recruits o...   \n2      Senior U.S. Republican senator: 'Let Mr. Muell...   \n3      FBI Russia probe helped by Australian diplomat...   \n4      Trump wants Postal Service to charge 'much mor...   \n...                                                  ...   \n44893  McPain: John McCain Furious That Iran Treated ...   \n44894  JUSTICE? Yahoo Settles E-mail Privacy Class-ac...   \n44895  Sunnistan: US and Allied ‘Safe Zone’ Plan to T...   \n44896  How to Blow $700 Million: Al Jazeera America F...   \n44897  10 U.S. Navy Sailors Held by Iranian Military ...   \n\n                                                    text       subject  \\\n0      WASHINGTON (Reuters) - The head of a conservat...  politicsNews   \n1      WASHINGTON (Reuters) - Transgender people will...  politicsNews   \n2      WASHINGTON (Reuters) - The special counsel inv...  politicsNews   \n3      WASHINGTON (Reuters) - Trump campaign adviser ...  politicsNews   \n4      SEATTLE/WASHINGTON (Reuters) - President Donal...  politicsNews   \n...                                                  ...           ...   \n44893  21st Century Wire says As 21WIRE reported earl...   Middle-east   \n44894  21st Century Wire says It s a familiar theme. ...   Middle-east   \n44895  Patrick Henningsen  21st Century WireRemember ...   Middle-east   \n44896  21st Century Wire says Al Jazeera America will...   Middle-east   \n44897  21st Century Wire says As 21WIRE predicted in ...   Middle-east   \n\n       isfake                                           original  \\\n0           1  As U.S. budget fight looms, Republicans flip t...   \n1           1  U.S. military to accept transgender recruits o...   \n2           1  Senior U.S. Republican senator: 'Let Mr. Muell...   \n3           1  FBI Russia probe helped by Australian diplomat...   \n4           1  Trump wants Postal Service to charge 'much mor...   \n...       ...                                                ...   \n44893       0  McPain: John McCain Furious That Iran Treated ...   \n44894       0  JUSTICE? Yahoo Settles E-mail Privacy Class-ac...   \n44895       0  Sunnistan: US and Allied ‘Safe Zone’ Plan to T...   \n44896       0  How to Blow $700 Million: Al Jazeera America F...   \n44897       0  10 U.S. Navy Sailors Held by Iranian Military ...   \n\n                                                   clean  \n0      [budget, fight, looms, republicans, flip, fisc...  \n1      [military, accept, transgender, recruits, mond...  \n2      [senior, republican, senator, mueller, washing...  \n3      [russia, probe, helped, australian, diplomat, ...  \n4      [trump, wants, postal, service, charge, amazon...  \n...                                                  ...  \n44893  [mcpain, john, mccain, furious, iran, treated,...  \n44894  [justice, yahoo, settles, mail, privacy, class...  \n44895  [sunnistan, allied, safe, zone, plan, territor...  \n44896  [blow, million, jazeera, america, finally, cal...  \n44897  [navy, sailors, held, iranian, military, signs...  \n\n[44898 rows x 6 columns]",
      "text/html": "<div>\n<style scoped>\n    .dataframe tbody tr th:only-of-type {\n        vertical-align: middle;\n    }\n\n    .dataframe tbody tr th {\n        vertical-align: top;\n    }\n\n    .dataframe thead th {\n        text-align: right;\n    }\n</style>\n<table border=\"1\" class=\"dataframe\">\n  <thead>\n    <tr style=\"text-align: right;\">\n      <th></th>\n      <th>title</th>\n      <th>text</th>\n      <th>subject</th>\n      <th>isfake</th>\n      <th>original</th>\n      <th>clean</th>\n    </tr>\n  </thead>\n  <tbody>\n    <tr>\n      <th>0</th>\n      <td>As U.S. budget fight looms, Republicans flip t...</td>\n      <td>WASHINGTON (Reuters) - The head of a conservat...</td>\n      <td>politicsNews</td>\n      <td>1</td>\n      <td>As U.S. budget fight looms, Republicans flip t...</td>\n      <td>[budget, fight, looms, republicans, flip, fisc...</td>\n    </tr>\n    <tr>\n      <th>1</th>\n      <td>U.S. military to accept transgender recruits o...</td>\n      <td>WASHINGTON (Reuters) - Transgender people will...</td>\n      <td>politicsNews</td>\n      <td>1</td>\n      <td>U.S. military to accept transgender recruits o...</td>\n      <td>[military, accept, transgender, recruits, mond...</td>\n    </tr>\n    <tr>\n      <th>2</th>\n      <td>Senior U.S. Republican senator: 'Let Mr. Muell...</td>\n      <td>WASHINGTON (Reuters) - The special counsel inv...</td>\n      <td>politicsNews</td>\n      <td>1</td>\n      <td>Senior U.S. Republican senator: 'Let Mr. Muell...</td>\n      <td>[senior, republican, senator, mueller, washing...</td>\n    </tr>\n    <tr>\n      <th>3</th>\n      <td>FBI Russia probe helped by Australian diplomat...</td>\n      <td>WASHINGTON (Reuters) - Trump campaign adviser ...</td>\n      <td>politicsNews</td>\n      <td>1</td>\n      <td>FBI Russia probe helped by Australian diplomat...</td>\n      <td>[russia, probe, helped, australian, diplomat, ...</td>\n    </tr>\n    <tr>\n      <th>4</th>\n      <td>Trump wants Postal Service to charge 'much mor...</td>\n      <td>SEATTLE/WASHINGTON (Reuters) - President Donal...</td>\n      <td>politicsNews</td>\n      <td>1</td>\n      <td>Trump wants Postal Service to charge 'much mor...</td>\n      <td>[trump, wants, postal, service, charge, amazon...</td>\n    </tr>\n    <tr>\n      <th>...</th>\n      <td>...</td>\n      <td>...</td>\n      <td>...</td>\n      <td>...</td>\n      <td>...</td>\n      <td>...</td>\n    </tr>\n    <tr>\n      <th>44893</th>\n      <td>McPain: John McCain Furious That Iran Treated ...</td>\n      <td>21st Century Wire says As 21WIRE reported earl...</td>\n      <td>Middle-east</td>\n      <td>0</td>\n      <td>McPain: John McCain Furious That Iran Treated ...</td>\n      <td>[mcpain, john, mccain, furious, iran, treated,...</td>\n    </tr>\n    <tr>\n      <th>44894</th>\n      <td>JUSTICE? Yahoo Settles E-mail Privacy Class-ac...</td>\n      <td>21st Century Wire says It s a familiar theme. ...</td>\n      <td>Middle-east</td>\n      <td>0</td>\n      <td>JUSTICE? Yahoo Settles E-mail Privacy Class-ac...</td>\n      <td>[justice, yahoo, settles, mail, privacy, class...</td>\n    </tr>\n    <tr>\n      <th>44895</th>\n      <td>Sunnistan: US and Allied ‘Safe Zone’ Plan to T...</td>\n      <td>Patrick Henningsen  21st Century WireRemember ...</td>\n      <td>Middle-east</td>\n      <td>0</td>\n      <td>Sunnistan: US and Allied ‘Safe Zone’ Plan to T...</td>\n      <td>[sunnistan, allied, safe, zone, plan, territor...</td>\n    </tr>\n    <tr>\n      <th>44896</th>\n      <td>How to Blow $700 Million: Al Jazeera America F...</td>\n      <td>21st Century Wire says Al Jazeera America will...</td>\n      <td>Middle-east</td>\n      <td>0</td>\n      <td>How to Blow $700 Million: Al Jazeera America F...</td>\n      <td>[blow, million, jazeera, america, finally, cal...</td>\n    </tr>\n    <tr>\n      <th>44897</th>\n      <td>10 U.S. Navy Sailors Held by Iranian Military ...</td>\n      <td>21st Century Wire says As 21WIRE predicted in ...</td>\n      <td>Middle-east</td>\n      <td>0</td>\n      <td>10 U.S. Navy Sailors Held by Iranian Military ...</td>\n      <td>[navy, sailors, held, iranian, military, signs...</td>\n    </tr>\n  </tbody>\n</table>\n<p>44898 rows × 6 columns</p>\n</div>"
     },
     "execution_count": 22,
     "metadata": {},
     "output_type": "execute_result"
    }
   ],
   "source": [
    "df"
   ],
   "metadata": {
    "collapsed": false,
    "ExecuteTime": {
     "end_time": "2024-04-16T16:49:38.979709Z",
     "start_time": "2024-04-16T16:49:38.973442Z"
    }
   },
   "id": "6da1c584294b0ccd",
   "execution_count": 22
  },
  {
   "cell_type": "markdown",
   "source": [
    "### Obtain the total words present in the dataset"
   ],
   "metadata": {
    "collapsed": false
   },
   "id": "8d37a5d9a343e51a"
  },
  {
   "cell_type": "code",
   "outputs": [],
   "source": [
    "list_of_words = []\n",
    "for i in df.clean:\n",
    "    for j in i:\n",
    "        list_of_words.append(j)"
   ],
   "metadata": {
    "collapsed": false,
    "ExecuteTime": {
     "end_time": "2024-04-16T16:49:39.207540Z",
     "start_time": "2024-04-16T16:49:38.980420Z"
    }
   },
   "id": "f31b5c12ace10390",
   "execution_count": 23
  },
  {
   "cell_type": "code",
   "outputs": [
    {
     "data": {
      "text/plain": "['budget',\n 'fight',\n 'looms',\n 'republicans',\n 'flip',\n 'fiscal',\n 'script',\n 'washington',\n 'reuters',\n 'head',\n 'conservative',\n 'republican',\n 'faction',\n 'congress',\n 'voted',\n 'month',\n 'huge',\n 'expansion',\n 'national',\n 'debt',\n 'cuts',\n 'called',\n 'fiscal',\n 'conservative',\n 'sunday',\n 'urged',\n 'budget',\n 'restraint',\n 'keeping',\n 'sharp',\n 'pivot',\n 'republicans',\n 'representative',\n 'mark',\n 'meadows',\n 'speaking',\n 'face',\n 'nation',\n 'drew',\n 'hard',\n 'line',\n 'federal',\n 'spending',\n 'lawmakers',\n 'bracing',\n 'battle',\n 'january',\n 'return',\n 'holidays',\n 'wednesday',\n 'lawmakers',\n 'begin',\n 'trying',\n 'pass',\n 'federal',\n 'budget',\n 'fight',\n 'likely',\n 'linked',\n 'issues',\n 'immigration',\n 'policy',\n 'november',\n 'congressional',\n 'election',\n 'campaigns',\n 'approach',\n 'republicans',\n 'seek',\n 'control',\n 'congress',\n 'president',\n 'donald',\n 'trump',\n 'republicans',\n 'want',\n 'budget',\n 'increase',\n 'military',\n 'spending',\n 'democrats',\n 'want',\n 'proportional',\n 'increases',\n 'defense',\n 'discretionary',\n 'spending',\n 'programs',\n 'support',\n 'education',\n 'scientific',\n 'research',\n 'infrastructure',\n 'public',\n 'health',\n 'environmental',\n 'protection',\n 'trump',\n 'administration',\n 'willing',\n 'going',\n 'increase',\n 'defense',\n 'discretionary',\n 'spending',\n 'percent',\n 'meadows',\n 'chairman',\n 'small',\n 'influential',\n 'house',\n 'freedom',\n 'caucus',\n 'said',\n 'program',\n 'democrats',\n 'saying',\n 'need',\n 'government',\n 'raise',\n 'percent',\n 'fiscal',\n 'conservative',\n 'rationale',\n 'eventually',\n 'people',\n 'money',\n 'said',\n 'meadows',\n 'republicans',\n 'voted',\n 'late',\n 'december',\n 'party',\n 'debt',\n 'financed',\n 'overhaul',\n 'expected',\n 'balloon',\n 'federal',\n 'budget',\n 'deficit',\n 'trillion',\n 'years',\n 'trillion',\n 'national',\n 'debt',\n 'interesting',\n 'hear',\n 'mark',\n 'talk',\n 'fiscal',\n 'responsibility',\n 'democratic',\n 'representative',\n 'joseph',\n 'crowley',\n 'said',\n 'crowley',\n 'said',\n 'republican',\n 'require',\n 'united',\n 'states',\n 'borrow',\n 'trillion',\n 'paid',\n 'future',\n 'generations',\n 'finance',\n 'cuts',\n 'corporations',\n 'rich',\n 'fiscally',\n 'responsible',\n 'bills',\n 'seen',\n 'passed',\n 'history',\n 'house',\n 'representatives',\n 'think',\n 'going',\n 'paying',\n 'years',\n 'come',\n 'crowley',\n 'said',\n 'republicans',\n 'insist',\n 'package',\n 'biggest',\n 'overhaul',\n 'years',\n 'boost',\n 'economy',\n 'growth',\n 'house',\n 'speaker',\n 'paul',\n 'ryan',\n 'supported',\n 'recently',\n 'went',\n 'meadows',\n 'making',\n 'clear',\n 'radio',\n 'interview',\n 'welfare',\n 'entitlement',\n 'reform',\n 'party',\n 'calls',\n 'republican',\n 'priority',\n 'republican',\n 'parlance',\n 'entitlement',\n 'programs',\n 'mean',\n 'food',\n 'stamps',\n 'housing',\n 'assistance',\n 'medicare',\n 'medicaid',\n 'health',\n 'insurance',\n 'elderly',\n 'poor',\n 'disabled',\n 'programs',\n 'created',\n 'washington',\n 'assist',\n 'needy',\n 'democrats',\n 'seized',\n 'ryan',\n 'early',\n 'december',\n 'remarks',\n 'saying',\n 'showed',\n 'republicans',\n 'overhaul',\n 'seeking',\n 'spending',\n 'cuts',\n 'social',\n 'programs',\n 'goals',\n 'house',\n 'republicans',\n 'seat',\n 'senate',\n 'votes',\n 'democrats',\n 'needed',\n 'approve',\n 'budget',\n 'prevent',\n 'government',\n 'shutdown',\n 'democrats',\n 'leverage',\n 'senate',\n 'republicans',\n 'narrowly',\n 'control',\n 'defend',\n 'discretionary',\n 'defense',\n 'programs',\n 'social',\n 'spending',\n 'tackling',\n 'issue',\n 'dreamers',\n 'people',\n 'brought',\n 'illegally',\n 'country',\n 'children',\n 'trump',\n 'september',\n 'march',\n 'expiration',\n 'date',\n 'deferred',\n 'action',\n 'childhood',\n 'arrivals',\n 'daca',\n 'program',\n 'protects',\n 'young',\n 'immigrants',\n 'deportation',\n 'provides',\n 'work',\n 'permits',\n 'president',\n 'said',\n 'recent',\n 'twitter',\n 'messages',\n 'wants',\n 'funding',\n 'proposed',\n 'mexican',\n 'border',\n 'wall',\n 'immigration',\n 'changes',\n 'exchange',\n 'agreeing',\n 'help',\n 'dreamers',\n 'representative',\n 'debbie',\n 'dingell',\n 'told',\n 'favor',\n 'linking',\n 'issue',\n 'policy',\n 'objectives',\n 'wall',\n 'funding',\n 'need',\n 'daca',\n 'clean',\n 'said',\n 'wednesday',\n 'trump',\n 'aides',\n 'meet',\n 'congressional',\n 'leaders',\n 'discuss',\n 'issues',\n 'followed',\n 'weekend',\n 'strategy',\n 'sessions',\n 'trump',\n 'republican',\n 'leaders',\n 'white',\n 'house',\n 'said',\n 'trump',\n 'scheduled',\n 'meet',\n 'sunday',\n 'florida',\n 'republican',\n 'governor',\n 'rick',\n 'scott',\n 'wants',\n 'emergency',\n 'house',\n 'passed',\n 'billion',\n 'package',\n 'hurricanes',\n 'florida',\n 'texas',\n 'puerto',\n 'rico',\n 'wildfires',\n 'california',\n 'package',\n 'exceeded',\n 'billion',\n 'requested',\n 'trump',\n 'administration',\n 'senate',\n 'voted',\n 'military',\n 'accept',\n 'transgender',\n 'recruits',\n 'monday',\n 'pentagon',\n 'washington',\n 'reuters',\n 'transgender',\n 'people',\n 'allowed',\n 'time',\n 'enlist',\n 'military',\n 'starting',\n 'monday',\n 'ordered',\n 'federal',\n 'courts',\n 'pentagon',\n 'said',\n 'friday',\n 'president',\n 'donald',\n 'trump',\n 'administration',\n 'decided',\n 'appeal',\n 'rulings',\n 'blocked',\n 'transgender',\n 'federal',\n 'appeals',\n 'courts',\n 'washington',\n 'virginia',\n 'week',\n 'rejected',\n 'administration',\n 'request',\n 'hold',\n 'orders',\n 'lower',\n 'court',\n 'judges',\n 'requiring',\n 'military',\n 'begin',\n 'accepting',\n 'transgender',\n 'recruits',\n 'justice',\n 'department',\n 'official',\n 'said',\n 'administration',\n 'challenge',\n 'rulings',\n 'department',\n 'defense',\n 'announced',\n 'releasing',\n 'independent',\n 'study',\n 'issues',\n 'coming',\n 'weeks',\n 'litigate',\n 'interim',\n 'appeal',\n 'occurs',\n 'administration',\n 'decided',\n 'wait',\n 'study',\n 'continue',\n 'defend',\n 'president',\n 'lawful',\n 'authority',\n 'district',\n 'court',\n 'meantime',\n 'official',\n 'said',\n 'speaking',\n 'condition',\n 'anonymity',\n 'september',\n 'pentagon',\n 'said',\n 'created',\n 'panel',\n 'senior',\n 'officials',\n 'study',\n 'implement',\n 'directive',\n 'trump',\n 'prohibit',\n 'transgender',\n 'individuals',\n 'serving',\n 'defense',\n 'department',\n 'submit',\n 'plan',\n 'trump',\n 'lawyers',\n 'representing',\n 'currently',\n 'serving',\n 'transgender',\n 'service',\n 'members',\n 'aspiring',\n 'recruits',\n 'said',\n 'expected',\n 'administration',\n 'appeal',\n 'rulings',\n 'conservative',\n 'majority',\n 'supreme',\n 'court',\n 'hoping',\n 'happen',\n 'pentagon',\n 'spokeswoman',\n 'heather',\n 'babb',\n 'said',\n 'statement',\n 'mandated',\n 'court',\n 'order',\n 'department',\n 'defense',\n 'prepared',\n 'begin',\n 'accessing',\n 'transgender',\n 'applicants',\n 'military',\n 'service',\n 'applicants',\n 'meet',\n 'accession',\n 'standards',\n 'jennifer',\n 'levi',\n 'lawyer',\n 'lesbian',\n 'transgender',\n 'advocacy',\n 'group',\n 'glad',\n 'called',\n 'decision',\n 'appeal',\n 'great',\n 'news',\n 'hoping',\n 'means',\n 'government',\n 'come',\n 'justify',\n 'good',\n 'military',\n 'country',\n 'levi',\n 'said',\n 'glad',\n 'american',\n 'civil',\n 'liberties',\n 'union',\n 'represent',\n 'plaintiffs',\n 'lawsuits',\n 'filed',\n 'administration',\n 'appealed',\n 'hard',\n 'line',\n 'conservative',\n 'supporters',\n 'trump',\n 'announced',\n 'july',\n 'prohibit',\n 'transgender',\n 'people',\n 'serving',\n 'military',\n 'reversing',\n 'democratic',\n 'president',\n 'barack',\n 'obama',\n 'policy',\n 'accepting',\n 'trump',\n 'said',\n 'twitter',\n 'time',\n 'military',\n 'burdened',\n 'tremendous',\n 'medical',\n 'costs',\n 'disruption',\n 'transgender',\n 'military',\n 'entail',\n 'federal',\n 'judges',\n 'baltimore',\n 'washington',\n 'seattle',\n 'riverside',\n 'california',\n 'issued',\n 'rulings',\n 'blocking',\n 'trump',\n 'legal',\n 'challenges',\n 'republican',\n 'president',\n 'policy',\n 'proceed',\n 'judges',\n 'said',\n 'likely',\n 'violate',\n 'right',\n 'constitution',\n 'equal',\n 'protection',\n 'pentagon',\n 'issued',\n 'guidelines',\n 'recruitment',\n 'personnel',\n 'order',\n 'enlist',\n 'transgender',\n 'applicants',\n 'memo',\n 'outlined',\n 'medical',\n 'requirements',\n 'specified',\n 'applicants',\n 'identified',\n 'undergarments',\n 'wear',\n 'trump',\n 'administration',\n 'previously',\n 'said',\n 'legal',\n 'papers',\n 'armed',\n 'forces',\n 'prepared',\n 'train',\n 'thousands',\n 'personnel',\n 'medical',\n 'standards',\n 'needed',\n 'process',\n 'transgender',\n 'applicants',\n 'accept',\n 'individuals',\n 'medically',\n 'service',\n 'obama',\n 'administration',\n 'deadline',\n 'july',\n 'begin',\n 'accepting',\n 'transgender',\n 'recruits',\n 'trump',\n 'defense',\n 'secretary',\n 'james',\n 'mattis',\n 'postponed',\n 'date',\n 'president',\n 'indefinitely',\n 'trump',\n 'taken',\n 'steps',\n 'aimed',\n 'rolling',\n 'transgender',\n 'rights',\n 'october',\n 'administration',\n 'said',\n 'federal',\n 'banning',\n 'gender',\n 'based',\n 'workplace',\n 'discrimination',\n 'protect',\n 'transgender',\n 'employees',\n 'reversing',\n 'obama',\n 'position',\n 'february',\n 'trump',\n 'rescinded',\n 'guidance',\n 'issued',\n 'obama',\n 'administration',\n 'saying',\n 'public',\n 'schools',\n 'allow',\n 'transgender',\n 'students',\n 'restroom',\n 'corresponds',\n 'gender',\n 'identity',\n 'senior',\n 'republican',\n 'senator',\n 'mueller',\n 'washington',\n 'reuters',\n 'special',\n 'counsel',\n 'investigation',\n 'links',\n 'russia',\n 'president',\n 'trump',\n 'election',\n 'campaign',\n 'continue',\n 'interference',\n 'despite',\n 'calls',\n 'trump',\n 'administration',\n 'allies',\n 'republican',\n 'lawmakers',\n 'shut',\n 'prominent',\n 'republican',\n 'senator',\n 'said',\n 'sunday',\n 'lindsey',\n 'graham',\n 'serves',\n 'senate',\n 'armed',\n 'forces',\n 'judiciary',\n 'committees',\n 'said',\n 'department',\n 'justice',\n 'special',\n 'counsel',\n 'robert',\n 'mueller',\n 'needs',\n 'carry',\n 'russia',\n 'investigation',\n 'political',\n 'interference',\n 'investigation',\n 'forward',\n 'investigation',\n 'conducted',\n 'political',\n 'influence',\n 'graham',\n 'said',\n 'face',\n 'nation',\n 'news',\n 'program',\n 'need',\n 'mueller',\n 'think',\n 'right',\n 'right',\n 'time',\n 'question',\n 'russia',\n 'interfered',\n 'election',\n 'trump',\n 'campaign',\n 'links',\n 'ordinated',\n 'effort',\n 'loomed',\n 'white',\n 'house',\n 'trump',\n 'took',\n 'office',\n 'january',\n 'shows',\n 'sign',\n 'receding',\n 'trump',\n 'prepares',\n 'second',\n 'year',\n 'power',\n 'despite',\n 'intensified',\n 'rhetoric',\n 'trump',\n 'allies',\n 'recent',\n 'weeks',\n 'accusing',\n 'mueller',\n 'team',\n 'bias',\n 'republican',\n 'president',\n 'trump',\n 'undercut',\n 'supporters',\n 'interview',\n 'week',\n 'york',\n 'times',\n 'said',\n 'expected',\n 'mueller',\n 'going',\n 'fair',\n 'russia',\n 'role',\n 'election',\n 'question',\n 'possible',\n 'links',\n 'trump',\n 'campaign',\n 'focus',\n 'multiple',\n 'inquiries',\n 'washington',\n 'committees',\n 'senate',\n 'house',\n 'representatives',\n 'investigating',\n 'mueller',\n 'team',\n 'took',\n 'earlier',\n 'probe',\n 'launched',\n 'federal',\n 'bureau',\n 'investigation',\n 'members',\n 'trump',\n 'campaign',\n 'administration',\n 'convicted',\n 'indicted',\n 'investigation',\n 'trump',\n 'allies',\n 'deny',\n 'collusion',\n 'russia',\n 'campaign',\n 'kremlin',\n 'denied',\n 'meddling',\n 'election',\n 'graham',\n 'said',\n 'wants',\n 'examination',\n 'dossier',\n 'links',\n 'trump',\n 'russia',\n 'compiled',\n 'british',\n 'christopher',\n 'steele',\n 'prompted',\n 'trump',\n 'allies',\n 'republicans',\n 'question',\n 'mueller',\n 'inquiry',\n 'saturday',\n 'york',\n 'times',\n 'reported',\n 'dossier',\n 'triggered',\n 'early',\n 'probe',\n 'trump',\n 'campaign',\n 'foreign',\n 'policy',\n 'adviser',\n 'george',\n 'papadopoulos',\n 'australian',\n 'diplomat',\n 'russia',\n 'damaging',\n 'information',\n 'trump',\n 'rival',\n 'hillary',\n 'clinton',\n 'want',\n 'somebody',\n 'look',\n 'department',\n 'justice',\n 'dossier',\n 'bothers',\n 'greatly',\n 'want',\n 'somebody',\n 'look',\n 'graham',\n 'said',\n 'said',\n 'russia',\n 'investigation',\n 'continue',\n 'matter',\n 'fact',\n 'hurt',\n 'ignored',\n 'said',\n 'russia',\n 'probe',\n 'helped',\n 'australian',\n 'diplomat',\n 'washington',\n 'reuters',\n 'trump',\n 'campaign',\n 'adviser',\n 'george',\n 'papadopoulos',\n 'told',\n 'australian',\n 'diplomat',\n 'russia',\n 'political',\n 'dirt',\n 'democratic',\n 'presidential',\n 'candidate',\n 'hillary',\n 'clinton',\n 'york',\n 'times',\n 'reported',\n 'saturday',\n 'conversation',\n 'papadopoulos',\n 'diplomat',\n 'alexander',\n 'downer',\n 'london',\n 'driving',\n 'factor',\n 'decision',\n 'open',\n 'counter',\n 'intelligence',\n 'investigation',\n 'moscow',\n 'contacts',\n 'trump',\n 'campaign',\n 'times',\n 'reported',\n 'months',\n 'meeting',\n 'australian',\n 'officials',\n 'passed',\n 'information',\n 'came',\n 'papadopoulos',\n ...]"
     },
     "execution_count": 24,
     "metadata": {},
     "output_type": "execute_result"
    }
   ],
   "source": [
    "list_of_words"
   ],
   "metadata": {
    "collapsed": false,
    "ExecuteTime": {
     "end_time": "2024-04-16T16:49:39.213418Z",
     "start_time": "2024-04-16T16:49:39.208349Z"
    }
   },
   "id": "973fd9f8570e7dbe",
   "execution_count": 24
  },
  {
   "cell_type": "code",
   "outputs": [
    {
     "data": {
      "text/plain": "9276947"
     },
     "execution_count": 25,
     "metadata": {},
     "output_type": "execute_result"
    }
   ],
   "source": [
    "len(list_of_words)"
   ],
   "metadata": {
    "collapsed": false,
    "ExecuteTime": {
     "end_time": "2024-04-16T16:49:39.215890Z",
     "start_time": "2024-04-16T16:49:39.213986Z"
    }
   },
   "id": "41e7515a150d61a5",
   "execution_count": 25
  },
  {
   "cell_type": "markdown",
   "source": [
    "### Obtain the total number of unique words"
   ],
   "metadata": {
    "collapsed": false
   },
   "id": "91a12e52a5979f3d"
  },
  {
   "cell_type": "code",
   "outputs": [
    {
     "data": {
      "text/plain": "108704"
     },
     "execution_count": 26,
     "metadata": {},
     "output_type": "execute_result"
    }
   ],
   "source": [
    "total_words = len(list(set(list_of_words)))\n",
    "total_words"
   ],
   "metadata": {
    "collapsed": false,
    "ExecuteTime": {
     "end_time": "2024-04-16T16:49:39.523310Z",
     "start_time": "2024-04-16T16:49:39.216417Z"
    }
   },
   "id": "601e05f0c76a7888",
   "execution_count": 26
  },
  {
   "cell_type": "markdown",
   "source": [
    "### Join the words into a string"
   ],
   "metadata": {
    "collapsed": false
   },
   "id": "fd27c0264247d5a1"
  },
  {
   "cell_type": "code",
   "outputs": [],
   "source": [
    "df['clean_joined'] = df['clean'].apply(lambda x: \" \".join(x))"
   ],
   "metadata": {
    "collapsed": false,
    "ExecuteTime": {
     "end_time": "2024-04-16T16:49:39.678538Z",
     "start_time": "2024-04-16T16:49:39.523950Z"
    }
   },
   "id": "d5f02042fb5ca819",
   "execution_count": 27
  },
  {
   "cell_type": "code",
   "outputs": [
    {
     "data": {
      "text/plain": "                                                   title  \\\n0      As U.S. budget fight looms, Republicans flip t...   \n1      U.S. military to accept transgender recruits o...   \n2      Senior U.S. Republican senator: 'Let Mr. Muell...   \n3      FBI Russia probe helped by Australian diplomat...   \n4      Trump wants Postal Service to charge 'much mor...   \n...                                                  ...   \n44893  McPain: John McCain Furious That Iran Treated ...   \n44894  JUSTICE? Yahoo Settles E-mail Privacy Class-ac...   \n44895  Sunnistan: US and Allied ‘Safe Zone’ Plan to T...   \n44896  How to Blow $700 Million: Al Jazeera America F...   \n44897  10 U.S. Navy Sailors Held by Iranian Military ...   \n\n                                                    text       subject  \\\n0      WASHINGTON (Reuters) - The head of a conservat...  politicsNews   \n1      WASHINGTON (Reuters) - Transgender people will...  politicsNews   \n2      WASHINGTON (Reuters) - The special counsel inv...  politicsNews   \n3      WASHINGTON (Reuters) - Trump campaign adviser ...  politicsNews   \n4      SEATTLE/WASHINGTON (Reuters) - President Donal...  politicsNews   \n...                                                  ...           ...   \n44893  21st Century Wire says As 21WIRE reported earl...   Middle-east   \n44894  21st Century Wire says It s a familiar theme. ...   Middle-east   \n44895  Patrick Henningsen  21st Century WireRemember ...   Middle-east   \n44896  21st Century Wire says Al Jazeera America will...   Middle-east   \n44897  21st Century Wire says As 21WIRE predicted in ...   Middle-east   \n\n       isfake                                           original  \\\n0           1  As U.S. budget fight looms, Republicans flip t...   \n1           1  U.S. military to accept transgender recruits o...   \n2           1  Senior U.S. Republican senator: 'Let Mr. Muell...   \n3           1  FBI Russia probe helped by Australian diplomat...   \n4           1  Trump wants Postal Service to charge 'much mor...   \n...       ...                                                ...   \n44893       0  McPain: John McCain Furious That Iran Treated ...   \n44894       0  JUSTICE? Yahoo Settles E-mail Privacy Class-ac...   \n44895       0  Sunnistan: US and Allied ‘Safe Zone’ Plan to T...   \n44896       0  How to Blow $700 Million: Al Jazeera America F...   \n44897       0  10 U.S. Navy Sailors Held by Iranian Military ...   \n\n                                                   clean  \\\n0      [budget, fight, looms, republicans, flip, fisc...   \n1      [military, accept, transgender, recruits, mond...   \n2      [senior, republican, senator, mueller, washing...   \n3      [russia, probe, helped, australian, diplomat, ...   \n4      [trump, wants, postal, service, charge, amazon...   \n...                                                  ...   \n44893  [mcpain, john, mccain, furious, iran, treated,...   \n44894  [justice, yahoo, settles, mail, privacy, class...   \n44895  [sunnistan, allied, safe, zone, plan, territor...   \n44896  [blow, million, jazeera, america, finally, cal...   \n44897  [navy, sailors, held, iranian, military, signs...   \n\n                                            clean_joined  \n0      budget fight looms republicans flip fiscal scr...  \n1      military accept transgender recruits monday pe...  \n2      senior republican senator mueller washington r...  \n3      russia probe helped australian diplomat washin...  \n4      trump wants postal service charge amazon shipm...  \n...                                                  ...  \n44893  mcpain john mccain furious iran treated sailor...  \n44894  justice yahoo settles mail privacy class actio...  \n44895  sunnistan allied safe zone plan territorial bo...  \n44896  blow million jazeera america finally calls qui...  \n44897  navy sailors held iranian military signs neoco...  \n\n[44898 rows x 7 columns]",
      "text/html": "<div>\n<style scoped>\n    .dataframe tbody tr th:only-of-type {\n        vertical-align: middle;\n    }\n\n    .dataframe tbody tr th {\n        vertical-align: top;\n    }\n\n    .dataframe thead th {\n        text-align: right;\n    }\n</style>\n<table border=\"1\" class=\"dataframe\">\n  <thead>\n    <tr style=\"text-align: right;\">\n      <th></th>\n      <th>title</th>\n      <th>text</th>\n      <th>subject</th>\n      <th>isfake</th>\n      <th>original</th>\n      <th>clean</th>\n      <th>clean_joined</th>\n    </tr>\n  </thead>\n  <tbody>\n    <tr>\n      <th>0</th>\n      <td>As U.S. budget fight looms, Republicans flip t...</td>\n      <td>WASHINGTON (Reuters) - The head of a conservat...</td>\n      <td>politicsNews</td>\n      <td>1</td>\n      <td>As U.S. budget fight looms, Republicans flip t...</td>\n      <td>[budget, fight, looms, republicans, flip, fisc...</td>\n      <td>budget fight looms republicans flip fiscal scr...</td>\n    </tr>\n    <tr>\n      <th>1</th>\n      <td>U.S. military to accept transgender recruits o...</td>\n      <td>WASHINGTON (Reuters) - Transgender people will...</td>\n      <td>politicsNews</td>\n      <td>1</td>\n      <td>U.S. military to accept transgender recruits o...</td>\n      <td>[military, accept, transgender, recruits, mond...</td>\n      <td>military accept transgender recruits monday pe...</td>\n    </tr>\n    <tr>\n      <th>2</th>\n      <td>Senior U.S. Republican senator: 'Let Mr. Muell...</td>\n      <td>WASHINGTON (Reuters) - The special counsel inv...</td>\n      <td>politicsNews</td>\n      <td>1</td>\n      <td>Senior U.S. Republican senator: 'Let Mr. Muell...</td>\n      <td>[senior, republican, senator, mueller, washing...</td>\n      <td>senior republican senator mueller washington r...</td>\n    </tr>\n    <tr>\n      <th>3</th>\n      <td>FBI Russia probe helped by Australian diplomat...</td>\n      <td>WASHINGTON (Reuters) - Trump campaign adviser ...</td>\n      <td>politicsNews</td>\n      <td>1</td>\n      <td>FBI Russia probe helped by Australian diplomat...</td>\n      <td>[russia, probe, helped, australian, diplomat, ...</td>\n      <td>russia probe helped australian diplomat washin...</td>\n    </tr>\n    <tr>\n      <th>4</th>\n      <td>Trump wants Postal Service to charge 'much mor...</td>\n      <td>SEATTLE/WASHINGTON (Reuters) - President Donal...</td>\n      <td>politicsNews</td>\n      <td>1</td>\n      <td>Trump wants Postal Service to charge 'much mor...</td>\n      <td>[trump, wants, postal, service, charge, amazon...</td>\n      <td>trump wants postal service charge amazon shipm...</td>\n    </tr>\n    <tr>\n      <th>...</th>\n      <td>...</td>\n      <td>...</td>\n      <td>...</td>\n      <td>...</td>\n      <td>...</td>\n      <td>...</td>\n      <td>...</td>\n    </tr>\n    <tr>\n      <th>44893</th>\n      <td>McPain: John McCain Furious That Iran Treated ...</td>\n      <td>21st Century Wire says As 21WIRE reported earl...</td>\n      <td>Middle-east</td>\n      <td>0</td>\n      <td>McPain: John McCain Furious That Iran Treated ...</td>\n      <td>[mcpain, john, mccain, furious, iran, treated,...</td>\n      <td>mcpain john mccain furious iran treated sailor...</td>\n    </tr>\n    <tr>\n      <th>44894</th>\n      <td>JUSTICE? Yahoo Settles E-mail Privacy Class-ac...</td>\n      <td>21st Century Wire says It s a familiar theme. ...</td>\n      <td>Middle-east</td>\n      <td>0</td>\n      <td>JUSTICE? Yahoo Settles E-mail Privacy Class-ac...</td>\n      <td>[justice, yahoo, settles, mail, privacy, class...</td>\n      <td>justice yahoo settles mail privacy class actio...</td>\n    </tr>\n    <tr>\n      <th>44895</th>\n      <td>Sunnistan: US and Allied ‘Safe Zone’ Plan to T...</td>\n      <td>Patrick Henningsen  21st Century WireRemember ...</td>\n      <td>Middle-east</td>\n      <td>0</td>\n      <td>Sunnistan: US and Allied ‘Safe Zone’ Plan to T...</td>\n      <td>[sunnistan, allied, safe, zone, plan, territor...</td>\n      <td>sunnistan allied safe zone plan territorial bo...</td>\n    </tr>\n    <tr>\n      <th>44896</th>\n      <td>How to Blow $700 Million: Al Jazeera America F...</td>\n      <td>21st Century Wire says Al Jazeera America will...</td>\n      <td>Middle-east</td>\n      <td>0</td>\n      <td>How to Blow $700 Million: Al Jazeera America F...</td>\n      <td>[blow, million, jazeera, america, finally, cal...</td>\n      <td>blow million jazeera america finally calls qui...</td>\n    </tr>\n    <tr>\n      <th>44897</th>\n      <td>10 U.S. Navy Sailors Held by Iranian Military ...</td>\n      <td>21st Century Wire says As 21WIRE predicted in ...</td>\n      <td>Middle-east</td>\n      <td>0</td>\n      <td>10 U.S. Navy Sailors Held by Iranian Military ...</td>\n      <td>[navy, sailors, held, iranian, military, signs...</td>\n      <td>navy sailors held iranian military signs neoco...</td>\n    </tr>\n  </tbody>\n</table>\n<p>44898 rows × 7 columns</p>\n</div>"
     },
     "execution_count": 28,
     "metadata": {},
     "output_type": "execute_result"
    }
   ],
   "source": [
    "df"
   ],
   "metadata": {
    "collapsed": false,
    "ExecuteTime": {
     "end_time": "2024-04-16T16:49:39.688650Z",
     "start_time": "2024-04-16T16:49:39.681912Z"
    }
   },
   "id": "52784912caf4b575",
   "execution_count": 28
  },
  {
   "cell_type": "code",
   "outputs": [
    {
     "data": {
      "text/plain": "'budget fight looms republicans flip fiscal script washington reuters head conservative republican faction congress voted month huge expansion national debt cuts called fiscal conservative sunday urged budget restraint keeping sharp pivot republicans representative mark meadows speaking face nation drew hard line federal spending lawmakers bracing battle january return holidays wednesday lawmakers begin trying pass federal budget fight likely linked issues immigration policy november congressional election campaigns approach republicans seek control congress president donald trump republicans want budget increase military spending democrats want proportional increases defense discretionary spending programs support education scientific research infrastructure public health environmental protection trump administration willing going increase defense discretionary spending percent meadows chairman small influential house freedom caucus said program democrats saying need government raise percent fiscal conservative rationale eventually people money said meadows republicans voted late december party debt financed overhaul expected balloon federal budget deficit trillion years trillion national debt interesting hear mark talk fiscal responsibility democratic representative joseph crowley said crowley said republican require united states borrow trillion paid future generations finance cuts corporations rich fiscally responsible bills seen passed history house representatives think going paying years come crowley said republicans insist package biggest overhaul years boost economy growth house speaker paul ryan supported recently went meadows making clear radio interview welfare entitlement reform party calls republican priority republican parlance entitlement programs mean food stamps housing assistance medicare medicaid health insurance elderly poor disabled programs created washington assist needy democrats seized ryan early december remarks saying showed republicans overhaul seeking spending cuts social programs goals house republicans seat senate votes democrats needed approve budget prevent government shutdown democrats leverage senate republicans narrowly control defend discretionary defense programs social spending tackling issue dreamers people brought illegally country children trump september march expiration date deferred action childhood arrivals daca program protects young immigrants deportation provides work permits president said recent twitter messages wants funding proposed mexican border wall immigration changes exchange agreeing help dreamers representative debbie dingell told favor linking issue policy objectives wall funding need daca clean said wednesday trump aides meet congressional leaders discuss issues followed weekend strategy sessions trump republican leaders white house said trump scheduled meet sunday florida republican governor rick scott wants emergency house passed billion package hurricanes florida texas puerto rico wildfires california package exceeded billion requested trump administration senate voted'"
     },
     "execution_count": 29,
     "metadata": {},
     "output_type": "execute_result"
    }
   ],
   "source": [
    "df['clean_joined'][0]"
   ],
   "metadata": {
    "collapsed": false,
    "ExecuteTime": {
     "end_time": "2024-04-16T16:49:39.691289Z",
     "start_time": "2024-04-16T16:49:39.689294Z"
    }
   },
   "id": "e8c8fb84624887e7",
   "execution_count": 29
  },
  {
   "cell_type": "markdown",
   "source": [
    "### Perform sanity check on the preprocessing stage by visualizing at least 3 sample news snippets"
   ],
   "metadata": {
    "collapsed": false
   },
   "id": "dea0d3c643173527"
  },
  {
   "cell_type": "code",
   "outputs": [
    {
     "data": {
      "text/plain": "'U.S. military to accept transgender recruits on Monday: Pentagon WASHINGTON (Reuters) - Transgender people will be allowed for the first time to enlist in the U.S. military starting on Monday as ordered by federal courts, the Pentagon said on Friday, after President Donald Trump’s administration decided not to appeal rulings that blocked his transgender ban. Two federal appeals courts, one in Washington and one in Virginia, last week rejected the administration’s request to put on hold orders by lower court judges requiring the military to begin accepting transgender recruits on Jan. 1. A Justice Department official said the administration will not challenge those rulings. “The Department of Defense has announced that it will be releasing an independent study of these issues in the coming weeks. So rather than litigate this interim appeal before that occurs, the administration has decided to wait for DOD’s study and will continue to defend the president’s lawful authority in District Court in the meantime,” the official said, speaking on condition of anonymity. In September, the Pentagon said it had created a panel of senior officials to study how to implement a directive by Trump to prohibit transgender individuals from serving. The Defense Department has until Feb. 21 to submit a plan to Trump. Lawyers representing currently-serving transgender service members and aspiring recruits said they had expected the administration to appeal the rulings to the conservative-majority Supreme Court, but were hoping that would not happen. Pentagon spokeswoman Heather Babb said in a statement: “As mandated by court order, the Department of Defense is prepared to begin accessing transgender applicants for military service Jan. 1. All applicants must meet all accession standards.” Jennifer Levi, a lawyer with gay, lesbian and transgender advocacy group GLAD, called the decision not to appeal “great news.” “I’m hoping it means the government has come to see that there is no way to justify a ban and that it’s not good for the military or our country,” Levi said. Both GLAD and the American Civil Liberties Union represent plaintiffs in the lawsuits filed against the administration. In a move that appealed to his hard-line conservative supporters, Trump announced in July that he would prohibit transgender people from serving in the military, reversing Democratic President Barack Obama’s policy of accepting them. Trump said on Twitter at the time that the military “cannot be burdened with the tremendous medical costs and disruption that transgender in the military would entail.” Four federal judges - in Baltimore, Washington, D.C., Seattle and Riverside, California - have issued rulings blocking Trump’s ban while legal challenges to the Republican president’s policy proceed. The judges said the ban would likely violate the right under the U.S. Constitution to equal protection under the law. The Pentagon on Dec. 8 issued guidelines to recruitment personnel in order to enlist transgender applicants by Jan. 1. The memo outlined medical requirements and specified how the applicants’ sex would be identified and even which undergarments they would wear. The Trump administration previously said in legal papers that the armed forces were not prepared to train thousands of personnel on the medical standards needed to process transgender applicants and might have to accept “some individuals who are not medically fit for service.” The Obama administration had set a deadline of July 1, 2017, to begin accepting transgender recruits. But Trump’s defense secretary, James Mattis, postponed that date to Jan. 1, 2018, which the president’s ban then put off indefinitely. Trump has taken other steps aimed at rolling back transgender rights. In October, his administration said a federal law banning gender-based workplace discrimination does not protect transgender employees, reversing another Obama-era position. In February, Trump rescinded guidance issued by the Obama administration saying that public schools should allow transgender students to use the restroom that corresponds to their gender identity. '"
     },
     "execution_count": 30,
     "metadata": {},
     "output_type": "execute_result"
    }
   ],
   "source": [
    "df['original'][1]"
   ],
   "metadata": {
    "collapsed": false,
    "ExecuteTime": {
     "end_time": "2024-04-16T16:49:39.693337Z",
     "start_time": "2024-04-16T16:49:39.691858Z"
    }
   },
   "id": "4c717dd52574bcbd",
   "execution_count": 30
  },
  {
   "cell_type": "code",
   "outputs": [
    {
     "name": "stdout",
     "output_type": "stream",
     "text": [
      "['military', 'accept', 'transgender', 'recruits', 'monday', 'pentagon', 'washington', 'reuters', 'transgender', 'people', 'allowed', 'time', 'enlist', 'military', 'starting', 'monday', 'ordered', 'federal', 'courts', 'pentagon', 'said', 'friday', 'president', 'donald', 'trump', 'administration', 'decided', 'appeal', 'rulings', 'blocked', 'transgender', 'federal', 'appeals', 'courts', 'washington', 'virginia', 'week', 'rejected', 'administration', 'request', 'hold', 'orders', 'lower', 'court', 'judges', 'requiring', 'military', 'begin', 'accepting', 'transgender', 'recruits', 'justice', 'department', 'official', 'said', 'administration', 'challenge', 'rulings', 'department', 'defense', 'announced', 'releasing', 'independent', 'study', 'issues', 'coming', 'weeks', 'litigate', 'interim', 'appeal', 'occurs', 'administration', 'decided', 'wait', 'study', 'continue', 'defend', 'president', 'lawful', 'authority', 'district', 'court', 'meantime', 'official', 'said', 'speaking', 'condition', 'anonymity', 'september', 'pentagon', 'said', 'created', 'panel', 'senior', 'officials', 'study', 'implement', 'directive', 'trump', 'prohibit', 'transgender', 'individuals', 'serving', 'defense', 'department', 'submit', 'plan', 'trump', 'lawyers', 'representing', 'currently', 'serving', 'transgender', 'service', 'members', 'aspiring', 'recruits', 'said', 'expected', 'administration', 'appeal', 'rulings', 'conservative', 'majority', 'supreme', 'court', 'hoping', 'happen', 'pentagon', 'spokeswoman', 'heather', 'babb', 'said', 'statement', 'mandated', 'court', 'order', 'department', 'defense', 'prepared', 'begin', 'accessing', 'transgender', 'applicants', 'military', 'service', 'applicants', 'meet', 'accession', 'standards', 'jennifer', 'levi', 'lawyer', 'lesbian', 'transgender', 'advocacy', 'group', 'glad', 'called', 'decision', 'appeal', 'great', 'news', 'hoping', 'means', 'government', 'come', 'justify', 'good', 'military', 'country', 'levi', 'said', 'glad', 'american', 'civil', 'liberties', 'union', 'represent', 'plaintiffs', 'lawsuits', 'filed', 'administration', 'appealed', 'hard', 'line', 'conservative', 'supporters', 'trump', 'announced', 'july', 'prohibit', 'transgender', 'people', 'serving', 'military', 'reversing', 'democratic', 'president', 'barack', 'obama', 'policy', 'accepting', 'trump', 'said', 'twitter', 'time', 'military', 'burdened', 'tremendous', 'medical', 'costs', 'disruption', 'transgender', 'military', 'entail', 'federal', 'judges', 'baltimore', 'washington', 'seattle', 'riverside', 'california', 'issued', 'rulings', 'blocking', 'trump', 'legal', 'challenges', 'republican', 'president', 'policy', 'proceed', 'judges', 'said', 'likely', 'violate', 'right', 'constitution', 'equal', 'protection', 'pentagon', 'issued', 'guidelines', 'recruitment', 'personnel', 'order', 'enlist', 'transgender', 'applicants', 'memo', 'outlined', 'medical', 'requirements', 'specified', 'applicants', 'identified', 'undergarments', 'wear', 'trump', 'administration', 'previously', 'said', 'legal', 'papers', 'armed', 'forces', 'prepared', 'train', 'thousands', 'personnel', 'medical', 'standards', 'needed', 'process', 'transgender', 'applicants', 'accept', 'individuals', 'medically', 'service', 'obama', 'administration', 'deadline', 'july', 'begin', 'accepting', 'transgender', 'recruits', 'trump', 'defense', 'secretary', 'james', 'mattis', 'postponed', 'date', 'president', 'indefinitely', 'trump', 'taken', 'steps', 'aimed', 'rolling', 'transgender', 'rights', 'october', 'administration', 'said', 'federal', 'banning', 'gender', 'based', 'workplace', 'discrimination', 'protect', 'transgender', 'employees', 'reversing', 'obama', 'position', 'february', 'trump', 'rescinded', 'guidance', 'issued', 'obama', 'administration', 'saying', 'public', 'schools', 'allow', 'transgender', 'students', 'restroom', 'corresponds', 'gender', 'identity']\n"
     ]
    },
    {
     "data": {
      "text/plain": "'military accept transgender recruits monday pentagon washington reuters transgender people allowed time enlist military starting monday ordered federal courts pentagon said friday president donald trump administration decided appeal rulings blocked transgender federal appeals courts washington virginia week rejected administration request hold orders lower court judges requiring military begin accepting transgender recruits justice department official said administration challenge rulings department defense announced releasing independent study issues coming weeks litigate interim appeal occurs administration decided wait study continue defend president lawful authority district court meantime official said speaking condition anonymity september pentagon said created panel senior officials study implement directive trump prohibit transgender individuals serving defense department submit plan trump lawyers representing currently serving transgender service members aspiring recruits said expected administration appeal rulings conservative majority supreme court hoping happen pentagon spokeswoman heather babb said statement mandated court order department defense prepared begin accessing transgender applicants military service applicants meet accession standards jennifer levi lawyer lesbian transgender advocacy group glad called decision appeal great news hoping means government come justify good military country levi said glad american civil liberties union represent plaintiffs lawsuits filed administration appealed hard line conservative supporters trump announced july prohibit transgender people serving military reversing democratic president barack obama policy accepting trump said twitter time military burdened tremendous medical costs disruption transgender military entail federal judges baltimore washington seattle riverside california issued rulings blocking trump legal challenges republican president policy proceed judges said likely violate right constitution equal protection pentagon issued guidelines recruitment personnel order enlist transgender applicants memo outlined medical requirements specified applicants identified undergarments wear trump administration previously said legal papers armed forces prepared train thousands personnel medical standards needed process transgender applicants accept individuals medically service obama administration deadline july begin accepting transgender recruits trump defense secretary james mattis postponed date president indefinitely trump taken steps aimed rolling transgender rights october administration said federal banning gender based workplace discrimination protect transgender employees reversing obama position february trump rescinded guidance issued obama administration saying public schools allow transgender students restroom corresponds gender identity'"
     },
     "execution_count": 31,
     "metadata": {},
     "output_type": "execute_result"
    }
   ],
   "source": [
    "print(df['clean'][1])\n",
    "df['clean_joined'][1]"
   ],
   "metadata": {
    "collapsed": false,
    "ExecuteTime": {
     "end_time": "2024-04-16T16:49:39.695812Z",
     "start_time": "2024-04-16T16:49:39.693937Z"
    }
   },
   "id": "71ac1406965beb07",
   "execution_count": 31
  },
  {
   "cell_type": "code",
   "outputs": [
    {
     "data": {
      "text/plain": "\"Senior U.S. Republican senator: 'Let Mr. Mueller do his job' WASHINGTON (Reuters) - The special counsel investigation of links between Russia and President Trump’s 2016 election campaign should continue without interference in 2018, despite calls from some Trump administration allies and Republican lawmakers to shut it down, a prominent Republican senator said on Sunday. Lindsey Graham, who serves on the Senate armed forces and judiciary committees, said Department of Justice Special Counsel Robert Mueller needs to carry on with his Russia investigation without political interference. “This investigation will go forward. It will be an investigation conducted without political influence,” Graham said on CBS’s Face the Nation news program. “And we all need to let Mr. Mueller do his job. I think he’s the right guy at the right time.”  The question of how Russia may have interfered in the election, and how Trump’s campaign may have had links with or co-ordinated any such effort, has loomed over the White House since Trump took office in January. It shows no sign of receding as Trump prepares for his second year in power, despite intensified rhetoric from some Trump allies in recent weeks accusing Mueller’s team of bias against the Republican president. Trump himself seemed to undercut his supporters in an interview last week with the New York Times in which he said he expected Mueller was “going to be fair.”    Russia’s role in the election and the question of possible links to the Trump campaign are the focus of multiple inquiries in Washington. Three committees of the Senate and the House of Representatives are investigating, as well as Mueller, whose team in May took over an earlier probe launched by the U.S. Federal Bureau of Investigation (FBI). Several members of the Trump campaign and administration have been convicted or indicted in the investigation.  Trump and his allies deny any collusion with Russia during the campaign, and the Kremlin has denied meddling in the election. Graham said he still wants an examination of the FBI’s use of a dossier on links between Trump and Russia that was compiled by a former British spy, Christopher Steele, which prompted Trump allies and some Republicans to question Mueller’s inquiry.   On Saturday, the New York Times reported that it was not that dossier that triggered an early FBI probe, but a tip from former Trump campaign foreign policy adviser George Papadopoulos to an Australian diplomat that Russia had damaging information about former Trump rival Hillary Clinton.  “I want somebody to look at the way the Department of Justice used this dossier. It bothers me greatly the way they used it, and I want somebody to look at it,” Graham said. But he said the Russia investigation must continue. “As a matter of fact, it would hurt us if we ignored it,” he said. \""
     },
     "execution_count": 32,
     "metadata": {},
     "output_type": "execute_result"
    }
   ],
   "source": [
    "df['original'][2]"
   ],
   "metadata": {
    "collapsed": false,
    "ExecuteTime": {
     "end_time": "2024-04-16T16:49:39.698145Z",
     "start_time": "2024-04-16T16:49:39.696312Z"
    }
   },
   "id": "7d8cb75398c7fa2f",
   "execution_count": 32
  },
  {
   "cell_type": "code",
   "outputs": [
    {
     "name": "stdout",
     "output_type": "stream",
     "text": [
      "['senior', 'republican', 'senator', 'mueller', 'washington', 'reuters', 'special', 'counsel', 'investigation', 'links', 'russia', 'president', 'trump', 'election', 'campaign', 'continue', 'interference', 'despite', 'calls', 'trump', 'administration', 'allies', 'republican', 'lawmakers', 'shut', 'prominent', 'republican', 'senator', 'said', 'sunday', 'lindsey', 'graham', 'serves', 'senate', 'armed', 'forces', 'judiciary', 'committees', 'said', 'department', 'justice', 'special', 'counsel', 'robert', 'mueller', 'needs', 'carry', 'russia', 'investigation', 'political', 'interference', 'investigation', 'forward', 'investigation', 'conducted', 'political', 'influence', 'graham', 'said', 'face', 'nation', 'news', 'program', 'need', 'mueller', 'think', 'right', 'right', 'time', 'question', 'russia', 'interfered', 'election', 'trump', 'campaign', 'links', 'ordinated', 'effort', 'loomed', 'white', 'house', 'trump', 'took', 'office', 'january', 'shows', 'sign', 'receding', 'trump', 'prepares', 'second', 'year', 'power', 'despite', 'intensified', 'rhetoric', 'trump', 'allies', 'recent', 'weeks', 'accusing', 'mueller', 'team', 'bias', 'republican', 'president', 'trump', 'undercut', 'supporters', 'interview', 'week', 'york', 'times', 'said', 'expected', 'mueller', 'going', 'fair', 'russia', 'role', 'election', 'question', 'possible', 'links', 'trump', 'campaign', 'focus', 'multiple', 'inquiries', 'washington', 'committees', 'senate', 'house', 'representatives', 'investigating', 'mueller', 'team', 'took', 'earlier', 'probe', 'launched', 'federal', 'bureau', 'investigation', 'members', 'trump', 'campaign', 'administration', 'convicted', 'indicted', 'investigation', 'trump', 'allies', 'deny', 'collusion', 'russia', 'campaign', 'kremlin', 'denied', 'meddling', 'election', 'graham', 'said', 'wants', 'examination', 'dossier', 'links', 'trump', 'russia', 'compiled', 'british', 'christopher', 'steele', 'prompted', 'trump', 'allies', 'republicans', 'question', 'mueller', 'inquiry', 'saturday', 'york', 'times', 'reported', 'dossier', 'triggered', 'early', 'probe', 'trump', 'campaign', 'foreign', 'policy', 'adviser', 'george', 'papadopoulos', 'australian', 'diplomat', 'russia', 'damaging', 'information', 'trump', 'rival', 'hillary', 'clinton', 'want', 'somebody', 'look', 'department', 'justice', 'dossier', 'bothers', 'greatly', 'want', 'somebody', 'look', 'graham', 'said', 'said', 'russia', 'investigation', 'continue', 'matter', 'fact', 'hurt', 'ignored', 'said']\n"
     ]
    },
    {
     "data": {
      "text/plain": "'senior republican senator mueller washington reuters special counsel investigation links russia president trump election campaign continue interference despite calls trump administration allies republican lawmakers shut prominent republican senator said sunday lindsey graham serves senate armed forces judiciary committees said department justice special counsel robert mueller needs carry russia investigation political interference investigation forward investigation conducted political influence graham said face nation news program need mueller think right right time question russia interfered election trump campaign links ordinated effort loomed white house trump took office january shows sign receding trump prepares second year power despite intensified rhetoric trump allies recent weeks accusing mueller team bias republican president trump undercut supporters interview week york times said expected mueller going fair russia role election question possible links trump campaign focus multiple inquiries washington committees senate house representatives investigating mueller team took earlier probe launched federal bureau investigation members trump campaign administration convicted indicted investigation trump allies deny collusion russia campaign kremlin denied meddling election graham said wants examination dossier links trump russia compiled british christopher steele prompted trump allies republicans question mueller inquiry saturday york times reported dossier triggered early probe trump campaign foreign policy adviser george papadopoulos australian diplomat russia damaging information trump rival hillary clinton want somebody look department justice dossier bothers greatly want somebody look graham said said russia investigation continue matter fact hurt ignored said'"
     },
     "execution_count": 33,
     "metadata": {},
     "output_type": "execute_result"
    }
   ],
   "source": [
    "print(df['clean'][2])\n",
    "df['clean_joined'][2]"
   ],
   "metadata": {
    "collapsed": false,
    "ExecuteTime": {
     "end_time": "2024-04-16T16:49:39.700685Z",
     "start_time": "2024-04-16T16:49:39.698664Z"
    }
   },
   "id": "e9ce7d59d9dcfc51",
   "execution_count": 33
  },
  {
   "cell_type": "code",
   "outputs": [
    {
     "data": {
      "text/plain": "'FBI Russia probe helped by Australian diplomat tip-off: NYT WASHINGTON (Reuters) - Trump campaign adviser George Papadopoulos told an Australian diplomat in May 2016 that Russia had political dirt on Democratic presidential candidate Hillary Clinton, the New York Times reported on Saturday. The conversation between Papadopoulos and the diplomat, Alexander Downer, in London was a driving factor behind the FBI’s decision to open a counter-intelligence investigation of Moscow’s contacts with the Trump campaign, the Times reported. Two months after the meeting, Australian officials passed the information that came from Papadopoulos to their American counterparts when leaked Democratic emails began appearing online, according to the newspaper, which cited four current and former U.S. and foreign officials. Besides the information from the Australians, the probe by the Federal Bureau of Investigation was also propelled by intelligence from other friendly governments, including the British and Dutch, the Times said. Papadopoulos, a Chicago-based international energy lawyer, pleaded guilty on Oct. 30 to lying to FBI agents about contacts with people who claimed to have ties to top Russian officials. It was the first criminal charge alleging links between the Trump campaign and Russia. The White House has played down the former aide’s campaign role, saying it was “extremely limited” and that any actions he took would have been on his own. The New York Times, however, reported that Papadopoulos helped set up a meeting between then-candidate Donald Trump and Egyptian President Abdel Fattah al-Sisi and edited the outline of Trump’s first major foreign policy speech in April 2016. The federal investigation, which is now being led by Special Counsel Robert Mueller, has hung over Trump’s White House since he took office almost a year ago. Some Trump allies have recently accused Mueller’s team of being biased against the Republican president. Lawyers for Papadopoulos did not immediately respond to requests by Reuters for comment. Mueller’s office declined to comment. Trump’s White House attorney, Ty Cobb, declined to comment on the New York Times report. “Out of respect for the special counsel and his process, we are not commenting on matters such as this,” he said in a statement. Mueller has charged four Trump associates, including Papadopoulos, in his investigation. Russia has denied interfering in the U.S. election and Trump has said there was no collusion between his campaign and Moscow. '"
     },
     "execution_count": 34,
     "metadata": {},
     "output_type": "execute_result"
    }
   ],
   "source": [
    "df['original'][3]"
   ],
   "metadata": {
    "collapsed": false,
    "ExecuteTime": {
     "end_time": "2024-04-16T16:49:39.702966Z",
     "start_time": "2024-04-16T16:49:39.701237Z"
    }
   },
   "id": "2fdb0ee8fc355d2b",
   "execution_count": 34
  },
  {
   "cell_type": "code",
   "outputs": [
    {
     "name": "stdout",
     "output_type": "stream",
     "text": [
      "['russia', 'probe', 'helped', 'australian', 'diplomat', 'washington', 'reuters', 'trump', 'campaign', 'adviser', 'george', 'papadopoulos', 'told', 'australian', 'diplomat', 'russia', 'political', 'dirt', 'democratic', 'presidential', 'candidate', 'hillary', 'clinton', 'york', 'times', 'reported', 'saturday', 'conversation', 'papadopoulos', 'diplomat', 'alexander', 'downer', 'london', 'driving', 'factor', 'decision', 'open', 'counter', 'intelligence', 'investigation', 'moscow', 'contacts', 'trump', 'campaign', 'times', 'reported', 'months', 'meeting', 'australian', 'officials', 'passed', 'information', 'came', 'papadopoulos', 'american', 'counterparts', 'leaked', 'democratic', 'emails', 'began', 'appearing', 'online', 'according', 'newspaper', 'cited', 'current', 'foreign', 'officials', 'information', 'australians', 'probe', 'federal', 'bureau', 'investigation', 'propelled', 'intelligence', 'friendly', 'governments', 'including', 'british', 'dutch', 'times', 'said', 'papadopoulos', 'chicago', 'based', 'international', 'energy', 'lawyer', 'pleaded', 'guilty', 'lying', 'agents', 'contacts', 'people', 'claimed', 'ties', 'russian', 'officials', 'criminal', 'charge', 'alleging', 'links', 'trump', 'campaign', 'russia', 'white', 'house', 'played', 'aide', 'campaign', 'role', 'saying', 'extremely', 'limited', 'actions', 'took', 'york', 'times', 'reported', 'papadopoulos', 'helped', 'meeting', 'candidate', 'donald', 'trump', 'egyptian', 'president', 'abdel', 'fattah', 'sisi', 'edited', 'outline', 'trump', 'major', 'foreign', 'policy', 'speech', 'april', 'federal', 'investigation', 'special', 'counsel', 'robert', 'mueller', 'hung', 'trump', 'white', 'house', 'took', 'office', 'year', 'trump', 'allies', 'recently', 'accused', 'mueller', 'team', 'biased', 'republican', 'president', 'lawyers', 'papadopoulos', 'immediately', 'respond', 'requests', 'reuters', 'comment', 'mueller', 'office', 'declined', 'comment', 'trump', 'white', 'house', 'attorney', 'cobb', 'declined', 'comment', 'york', 'times', 'report', 'respect', 'special', 'counsel', 'process', 'commenting', 'matters', 'said', 'statement', 'mueller', 'charged', 'trump', 'associates', 'including', 'papadopoulos', 'investigation', 'russia', 'denied', 'interfering', 'election', 'trump', 'said', 'collusion', 'campaign', 'moscow']\n"
     ]
    },
    {
     "data": {
      "text/plain": "'russia probe helped australian diplomat washington reuters trump campaign adviser george papadopoulos told australian diplomat russia political dirt democratic presidential candidate hillary clinton york times reported saturday conversation papadopoulos diplomat alexander downer london driving factor decision open counter intelligence investigation moscow contacts trump campaign times reported months meeting australian officials passed information came papadopoulos american counterparts leaked democratic emails began appearing online according newspaper cited current foreign officials information australians probe federal bureau investigation propelled intelligence friendly governments including british dutch times said papadopoulos chicago based international energy lawyer pleaded guilty lying agents contacts people claimed ties russian officials criminal charge alleging links trump campaign russia white house played aide campaign role saying extremely limited actions took york times reported papadopoulos helped meeting candidate donald trump egyptian president abdel fattah sisi edited outline trump major foreign policy speech april federal investigation special counsel robert mueller hung trump white house took office year trump allies recently accused mueller team biased republican president lawyers papadopoulos immediately respond requests reuters comment mueller office declined comment trump white house attorney cobb declined comment york times report respect special counsel process commenting matters said statement mueller charged trump associates including papadopoulos investigation russia denied interfering election trump said collusion campaign moscow'"
     },
     "execution_count": 35,
     "metadata": {},
     "output_type": "execute_result"
    }
   ],
   "source": [
    "print(df['clean'][3])\n",
    "df['clean_joined'][3]"
   ],
   "metadata": {
    "collapsed": false,
    "ExecuteTime": {
     "end_time": "2024-04-16T16:49:39.705574Z",
     "start_time": "2024-04-16T16:49:39.703508Z"
    }
   },
   "id": "438a69a78a6f10fb",
   "execution_count": 35
  },
  {
   "cell_type": "markdown",
   "source": [
    "# TASK #4: VISUALIZE CLEANED UP DATASET"
   ],
   "metadata": {
    "collapsed": false
   },
   "id": "9ec6357ca8a0657b"
  },
  {
   "cell_type": "code",
   "outputs": [
    {
     "data": {
      "text/plain": "                                                   title  \\\n0      As U.S. budget fight looms, Republicans flip t...   \n1      U.S. military to accept transgender recruits o...   \n2      Senior U.S. Republican senator: 'Let Mr. Muell...   \n3      FBI Russia probe helped by Australian diplomat...   \n4      Trump wants Postal Service to charge 'much mor...   \n...                                                  ...   \n44893  McPain: John McCain Furious That Iran Treated ...   \n44894  JUSTICE? Yahoo Settles E-mail Privacy Class-ac...   \n44895  Sunnistan: US and Allied ‘Safe Zone’ Plan to T...   \n44896  How to Blow $700 Million: Al Jazeera America F...   \n44897  10 U.S. Navy Sailors Held by Iranian Military ...   \n\n                                                    text       subject  \\\n0      WASHINGTON (Reuters) - The head of a conservat...  politicsNews   \n1      WASHINGTON (Reuters) - Transgender people will...  politicsNews   \n2      WASHINGTON (Reuters) - The special counsel inv...  politicsNews   \n3      WASHINGTON (Reuters) - Trump campaign adviser ...  politicsNews   \n4      SEATTLE/WASHINGTON (Reuters) - President Donal...  politicsNews   \n...                                                  ...           ...   \n44893  21st Century Wire says As 21WIRE reported earl...   Middle-east   \n44894  21st Century Wire says It s a familiar theme. ...   Middle-east   \n44895  Patrick Henningsen  21st Century WireRemember ...   Middle-east   \n44896  21st Century Wire says Al Jazeera America will...   Middle-east   \n44897  21st Century Wire says As 21WIRE predicted in ...   Middle-east   \n\n       isfake                                           original  \\\n0           1  As U.S. budget fight looms, Republicans flip t...   \n1           1  U.S. military to accept transgender recruits o...   \n2           1  Senior U.S. Republican senator: 'Let Mr. Muell...   \n3           1  FBI Russia probe helped by Australian diplomat...   \n4           1  Trump wants Postal Service to charge 'much mor...   \n...       ...                                                ...   \n44893       0  McPain: John McCain Furious That Iran Treated ...   \n44894       0  JUSTICE? Yahoo Settles E-mail Privacy Class-ac...   \n44895       0  Sunnistan: US and Allied ‘Safe Zone’ Plan to T...   \n44896       0  How to Blow $700 Million: Al Jazeera America F...   \n44897       0  10 U.S. Navy Sailors Held by Iranian Military ...   \n\n                                                   clean  \\\n0      [budget, fight, looms, republicans, flip, fisc...   \n1      [military, accept, transgender, recruits, mond...   \n2      [senior, republican, senator, mueller, washing...   \n3      [russia, probe, helped, australian, diplomat, ...   \n4      [trump, wants, postal, service, charge, amazon...   \n...                                                  ...   \n44893  [mcpain, john, mccain, furious, iran, treated,...   \n44894  [justice, yahoo, settles, mail, privacy, class...   \n44895  [sunnistan, allied, safe, zone, plan, territor...   \n44896  [blow, million, jazeera, america, finally, cal...   \n44897  [navy, sailors, held, iranian, military, signs...   \n\n                                            clean_joined  \n0      budget fight looms republicans flip fiscal scr...  \n1      military accept transgender recruits monday pe...  \n2      senior republican senator mueller washington r...  \n3      russia probe helped australian diplomat washin...  \n4      trump wants postal service charge amazon shipm...  \n...                                                  ...  \n44893  mcpain john mccain furious iran treated sailor...  \n44894  justice yahoo settles mail privacy class actio...  \n44895  sunnistan allied safe zone plan territorial bo...  \n44896  blow million jazeera america finally calls qui...  \n44897  navy sailors held iranian military signs neoco...  \n\n[44898 rows x 7 columns]",
      "text/html": "<div>\n<style scoped>\n    .dataframe tbody tr th:only-of-type {\n        vertical-align: middle;\n    }\n\n    .dataframe tbody tr th {\n        vertical-align: top;\n    }\n\n    .dataframe thead th {\n        text-align: right;\n    }\n</style>\n<table border=\"1\" class=\"dataframe\">\n  <thead>\n    <tr style=\"text-align: right;\">\n      <th></th>\n      <th>title</th>\n      <th>text</th>\n      <th>subject</th>\n      <th>isfake</th>\n      <th>original</th>\n      <th>clean</th>\n      <th>clean_joined</th>\n    </tr>\n  </thead>\n  <tbody>\n    <tr>\n      <th>0</th>\n      <td>As U.S. budget fight looms, Republicans flip t...</td>\n      <td>WASHINGTON (Reuters) - The head of a conservat...</td>\n      <td>politicsNews</td>\n      <td>1</td>\n      <td>As U.S. budget fight looms, Republicans flip t...</td>\n      <td>[budget, fight, looms, republicans, flip, fisc...</td>\n      <td>budget fight looms republicans flip fiscal scr...</td>\n    </tr>\n    <tr>\n      <th>1</th>\n      <td>U.S. military to accept transgender recruits o...</td>\n      <td>WASHINGTON (Reuters) - Transgender people will...</td>\n      <td>politicsNews</td>\n      <td>1</td>\n      <td>U.S. military to accept transgender recruits o...</td>\n      <td>[military, accept, transgender, recruits, mond...</td>\n      <td>military accept transgender recruits monday pe...</td>\n    </tr>\n    <tr>\n      <th>2</th>\n      <td>Senior U.S. Republican senator: 'Let Mr. Muell...</td>\n      <td>WASHINGTON (Reuters) - The special counsel inv...</td>\n      <td>politicsNews</td>\n      <td>1</td>\n      <td>Senior U.S. Republican senator: 'Let Mr. Muell...</td>\n      <td>[senior, republican, senator, mueller, washing...</td>\n      <td>senior republican senator mueller washington r...</td>\n    </tr>\n    <tr>\n      <th>3</th>\n      <td>FBI Russia probe helped by Australian diplomat...</td>\n      <td>WASHINGTON (Reuters) - Trump campaign adviser ...</td>\n      <td>politicsNews</td>\n      <td>1</td>\n      <td>FBI Russia probe helped by Australian diplomat...</td>\n      <td>[russia, probe, helped, australian, diplomat, ...</td>\n      <td>russia probe helped australian diplomat washin...</td>\n    </tr>\n    <tr>\n      <th>4</th>\n      <td>Trump wants Postal Service to charge 'much mor...</td>\n      <td>SEATTLE/WASHINGTON (Reuters) - President Donal...</td>\n      <td>politicsNews</td>\n      <td>1</td>\n      <td>Trump wants Postal Service to charge 'much mor...</td>\n      <td>[trump, wants, postal, service, charge, amazon...</td>\n      <td>trump wants postal service charge amazon shipm...</td>\n    </tr>\n    <tr>\n      <th>...</th>\n      <td>...</td>\n      <td>...</td>\n      <td>...</td>\n      <td>...</td>\n      <td>...</td>\n      <td>...</td>\n      <td>...</td>\n    </tr>\n    <tr>\n      <th>44893</th>\n      <td>McPain: John McCain Furious That Iran Treated ...</td>\n      <td>21st Century Wire says As 21WIRE reported earl...</td>\n      <td>Middle-east</td>\n      <td>0</td>\n      <td>McPain: John McCain Furious That Iran Treated ...</td>\n      <td>[mcpain, john, mccain, furious, iran, treated,...</td>\n      <td>mcpain john mccain furious iran treated sailor...</td>\n    </tr>\n    <tr>\n      <th>44894</th>\n      <td>JUSTICE? Yahoo Settles E-mail Privacy Class-ac...</td>\n      <td>21st Century Wire says It s a familiar theme. ...</td>\n      <td>Middle-east</td>\n      <td>0</td>\n      <td>JUSTICE? Yahoo Settles E-mail Privacy Class-ac...</td>\n      <td>[justice, yahoo, settles, mail, privacy, class...</td>\n      <td>justice yahoo settles mail privacy class actio...</td>\n    </tr>\n    <tr>\n      <th>44895</th>\n      <td>Sunnistan: US and Allied ‘Safe Zone’ Plan to T...</td>\n      <td>Patrick Henningsen  21st Century WireRemember ...</td>\n      <td>Middle-east</td>\n      <td>0</td>\n      <td>Sunnistan: US and Allied ‘Safe Zone’ Plan to T...</td>\n      <td>[sunnistan, allied, safe, zone, plan, territor...</td>\n      <td>sunnistan allied safe zone plan territorial bo...</td>\n    </tr>\n    <tr>\n      <th>44896</th>\n      <td>How to Blow $700 Million: Al Jazeera America F...</td>\n      <td>21st Century Wire says Al Jazeera America will...</td>\n      <td>Middle-east</td>\n      <td>0</td>\n      <td>How to Blow $700 Million: Al Jazeera America F...</td>\n      <td>[blow, million, jazeera, america, finally, cal...</td>\n      <td>blow million jazeera america finally calls qui...</td>\n    </tr>\n    <tr>\n      <th>44897</th>\n      <td>10 U.S. Navy Sailors Held by Iranian Military ...</td>\n      <td>21st Century Wire says As 21WIRE predicted in ...</td>\n      <td>Middle-east</td>\n      <td>0</td>\n      <td>10 U.S. Navy Sailors Held by Iranian Military ...</td>\n      <td>[navy, sailors, held, iranian, military, signs...</td>\n      <td>navy sailors held iranian military signs neoco...</td>\n    </tr>\n  </tbody>\n</table>\n<p>44898 rows × 7 columns</p>\n</div>"
     },
     "execution_count": 36,
     "metadata": {},
     "output_type": "execute_result"
    }
   ],
   "source": [
    "df"
   ],
   "metadata": {
    "collapsed": false,
    "ExecuteTime": {
     "end_time": "2024-04-16T16:51:25.107695Z",
     "start_time": "2024-04-16T16:51:25.099353Z"
    }
   },
   "id": "b49224809c14a145",
   "execution_count": 36
  },
  {
   "cell_type": "code",
   "outputs": [],
   "source": [],
   "metadata": {
    "collapsed": false
   },
   "id": "9972f68cd039f57d"
  }
 ],
 "metadata": {
  "kernelspec": {
   "display_name": "Python 3",
   "language": "python",
   "name": "python3"
  },
  "language_info": {
   "codemirror_mode": {
    "name": "ipython",
    "version": 2
   },
   "file_extension": ".py",
   "mimetype": "text/x-python",
   "name": "python",
   "nbconvert_exporter": "python",
   "pygments_lexer": "ipython2",
   "version": "2.7.6"
  }
 },
 "nbformat": 4,
 "nbformat_minor": 5
}
